{
 "cells": [
  {
   "cell_type": "markdown",
   "metadata": {},
   "source": [
    "<h1><center> Telecom Churn Prediction</center></h1>"
   ]
  },
  {
   "cell_type": "markdown",
   "metadata": {},
   "source": [
    "<b><u><h2>Problem Statement :</h2></u></b> <br>\n",
    "\n",
    "- Due to the boom in the telecom industry with 4G technology, it has become a pain in the neck for the company to retain their customers.<br>\n",
    "\n",
    "- They are in the middle of setting up more cell sites on the 4G network to improve their 4G services.<br>\n",
    "- It is plausible for customers to choose 4G services over 3G services due to benefits of cost, speed, latency etc."
   ]
  },
  {
   "cell_type": "code",
   "execution_count": 687,
   "metadata": {},
   "outputs": [],
   "source": [
    "import pandas as pd\n",
    "import numpy as np\n",
    "import matplotlib.pyplot as plt\n",
    "%matplotlib inline\n",
    "import seaborn as sns"
   ]
  },
  {
   "cell_type": "code",
   "execution_count": 688,
   "metadata": {},
   "outputs": [
    {
     "name": "stdout",
     "output_type": "stream",
     "text": [
      "(5634, 21)\n",
      "(1409, 20)\n"
     ]
    }
   ],
   "source": [
    "train_data = pd.read_csv('Churn_train.csv')\n",
    "test_data = pd.read_csv('Churn_test.csv')\n",
    "print(train_data.shape)\n",
    "print(test_data.shape)"
   ]
  },
  {
   "cell_type": "code",
   "execution_count": 689,
   "metadata": {},
   "outputs": [
    {
     "data": {
      "text/html": [
       "<div>\n",
       "<style scoped>\n",
       "    .dataframe tbody tr th:only-of-type {\n",
       "        vertical-align: middle;\n",
       "    }\n",
       "\n",
       "    .dataframe tbody tr th {\n",
       "        vertical-align: top;\n",
       "    }\n",
       "\n",
       "    .dataframe thead th {\n",
       "        text-align: right;\n",
       "    }\n",
       "</style>\n",
       "<table border=\"1\" class=\"dataframe\">\n",
       "  <thead>\n",
       "    <tr style=\"text-align: right;\">\n",
       "      <th></th>\n",
       "      <th>customerID</th>\n",
       "      <th>gender</th>\n",
       "      <th>SeniorCitizen</th>\n",
       "      <th>Partner</th>\n",
       "      <th>Dependents</th>\n",
       "      <th>tenure</th>\n",
       "      <th>PhoneService</th>\n",
       "      <th>MultipleLines</th>\n",
       "      <th>InternetService</th>\n",
       "      <th>OnlineSecurity</th>\n",
       "      <th>...</th>\n",
       "      <th>DeviceProtection</th>\n",
       "      <th>TechSupport</th>\n",
       "      <th>StreamingTV</th>\n",
       "      <th>StreamingMovies</th>\n",
       "      <th>Contract</th>\n",
       "      <th>PaperlessBilling</th>\n",
       "      <th>PaymentMethod</th>\n",
       "      <th>MonthlyCharges</th>\n",
       "      <th>TotalCharges</th>\n",
       "      <th>Churn</th>\n",
       "    </tr>\n",
       "  </thead>\n",
       "  <tbody>\n",
       "    <tr>\n",
       "      <th>0</th>\n",
       "      <td>5442-PPTJY</td>\n",
       "      <td>Male</td>\n",
       "      <td>0</td>\n",
       "      <td>Yes</td>\n",
       "      <td>Yes</td>\n",
       "      <td>12</td>\n",
       "      <td>Yes</td>\n",
       "      <td>No</td>\n",
       "      <td>No</td>\n",
       "      <td>No internet service</td>\n",
       "      <td>...</td>\n",
       "      <td>No internet service</td>\n",
       "      <td>No internet service</td>\n",
       "      <td>No internet service</td>\n",
       "      <td>No internet service</td>\n",
       "      <td>Two year</td>\n",
       "      <td>No</td>\n",
       "      <td>Mailed check</td>\n",
       "      <td>19.70</td>\n",
       "      <td>258.35</td>\n",
       "      <td>No</td>\n",
       "    </tr>\n",
       "    <tr>\n",
       "      <th>1</th>\n",
       "      <td>6261-RCVNS</td>\n",
       "      <td>Female</td>\n",
       "      <td>0</td>\n",
       "      <td>No</td>\n",
       "      <td>No</td>\n",
       "      <td>42</td>\n",
       "      <td>Yes</td>\n",
       "      <td>No</td>\n",
       "      <td>DSL</td>\n",
       "      <td>Yes</td>\n",
       "      <td>...</td>\n",
       "      <td>Yes</td>\n",
       "      <td>Yes</td>\n",
       "      <td>No</td>\n",
       "      <td>Yes</td>\n",
       "      <td>One year</td>\n",
       "      <td>No</td>\n",
       "      <td>Credit card (automatic)</td>\n",
       "      <td>73.90</td>\n",
       "      <td>3160.55</td>\n",
       "      <td>Yes</td>\n",
       "    </tr>\n",
       "    <tr>\n",
       "      <th>2</th>\n",
       "      <td>2176-OSJUV</td>\n",
       "      <td>Male</td>\n",
       "      <td>0</td>\n",
       "      <td>Yes</td>\n",
       "      <td>No</td>\n",
       "      <td>71</td>\n",
       "      <td>Yes</td>\n",
       "      <td>Yes</td>\n",
       "      <td>DSL</td>\n",
       "      <td>Yes</td>\n",
       "      <td>...</td>\n",
       "      <td>No</td>\n",
       "      <td>Yes</td>\n",
       "      <td>No</td>\n",
       "      <td>No</td>\n",
       "      <td>Two year</td>\n",
       "      <td>No</td>\n",
       "      <td>Bank transfer (automatic)</td>\n",
       "      <td>65.15</td>\n",
       "      <td>4681.75</td>\n",
       "      <td>No</td>\n",
       "    </tr>\n",
       "    <tr>\n",
       "      <th>3</th>\n",
       "      <td>6161-ERDGD</td>\n",
       "      <td>Male</td>\n",
       "      <td>0</td>\n",
       "      <td>Yes</td>\n",
       "      <td>Yes</td>\n",
       "      <td>71</td>\n",
       "      <td>Yes</td>\n",
       "      <td>Yes</td>\n",
       "      <td>DSL</td>\n",
       "      <td>Yes</td>\n",
       "      <td>...</td>\n",
       "      <td>Yes</td>\n",
       "      <td>Yes</td>\n",
       "      <td>Yes</td>\n",
       "      <td>Yes</td>\n",
       "      <td>One year</td>\n",
       "      <td>No</td>\n",
       "      <td>Electronic check</td>\n",
       "      <td>85.45</td>\n",
       "      <td>6300.85</td>\n",
       "      <td>No</td>\n",
       "    </tr>\n",
       "    <tr>\n",
       "      <th>4</th>\n",
       "      <td>2364-UFROM</td>\n",
       "      <td>Male</td>\n",
       "      <td>0</td>\n",
       "      <td>No</td>\n",
       "      <td>No</td>\n",
       "      <td>30</td>\n",
       "      <td>Yes</td>\n",
       "      <td>No</td>\n",
       "      <td>DSL</td>\n",
       "      <td>Yes</td>\n",
       "      <td>...</td>\n",
       "      <td>No</td>\n",
       "      <td>Yes</td>\n",
       "      <td>Yes</td>\n",
       "      <td>No</td>\n",
       "      <td>One year</td>\n",
       "      <td>No</td>\n",
       "      <td>Electronic check</td>\n",
       "      <td>70.40</td>\n",
       "      <td>2044.75</td>\n",
       "      <td>No</td>\n",
       "    </tr>\n",
       "  </tbody>\n",
       "</table>\n",
       "<p>5 rows × 21 columns</p>\n",
       "</div>"
      ],
      "text/plain": [
       "   customerID  gender  SeniorCitizen Partner Dependents  tenure PhoneService  \\\n",
       "0  5442-PPTJY    Male              0     Yes        Yes      12          Yes   \n",
       "1  6261-RCVNS  Female              0      No         No      42          Yes   \n",
       "2  2176-OSJUV    Male              0     Yes         No      71          Yes   \n",
       "3  6161-ERDGD    Male              0     Yes        Yes      71          Yes   \n",
       "4  2364-UFROM    Male              0      No         No      30          Yes   \n",
       "\n",
       "  MultipleLines InternetService       OnlineSecurity  ...  \\\n",
       "0            No              No  No internet service  ...   \n",
       "1            No             DSL                  Yes  ...   \n",
       "2           Yes             DSL                  Yes  ...   \n",
       "3           Yes             DSL                  Yes  ...   \n",
       "4            No             DSL                  Yes  ...   \n",
       "\n",
       "      DeviceProtection          TechSupport          StreamingTV  \\\n",
       "0  No internet service  No internet service  No internet service   \n",
       "1                  Yes                  Yes                   No   \n",
       "2                   No                  Yes                   No   \n",
       "3                  Yes                  Yes                  Yes   \n",
       "4                   No                  Yes                  Yes   \n",
       "\n",
       "       StreamingMovies  Contract PaperlessBilling              PaymentMethod  \\\n",
       "0  No internet service  Two year               No               Mailed check   \n",
       "1                  Yes  One year               No    Credit card (automatic)   \n",
       "2                   No  Two year               No  Bank transfer (automatic)   \n",
       "3                  Yes  One year               No           Electronic check   \n",
       "4                   No  One year               No           Electronic check   \n",
       "\n",
       "  MonthlyCharges  TotalCharges Churn  \n",
       "0          19.70        258.35    No  \n",
       "1          73.90       3160.55   Yes  \n",
       "2          65.15       4681.75    No  \n",
       "3          85.45       6300.85    No  \n",
       "4          70.40       2044.75    No  \n",
       "\n",
       "[5 rows x 21 columns]"
      ]
     },
     "execution_count": 689,
     "metadata": {},
     "output_type": "execute_result"
    }
   ],
   "source": [
    "train_data.head()"
   ]
  },
  {
   "cell_type": "code",
   "execution_count": 690,
   "metadata": {},
   "outputs": [
    {
     "data": {
      "text/html": [
       "<div>\n",
       "<style scoped>\n",
       "    .dataframe tbody tr th:only-of-type {\n",
       "        vertical-align: middle;\n",
       "    }\n",
       "\n",
       "    .dataframe tbody tr th {\n",
       "        vertical-align: top;\n",
       "    }\n",
       "\n",
       "    .dataframe thead th {\n",
       "        text-align: right;\n",
       "    }\n",
       "</style>\n",
       "<table border=\"1\" class=\"dataframe\">\n",
       "  <thead>\n",
       "    <tr style=\"text-align: right;\">\n",
       "      <th></th>\n",
       "      <th>customerID</th>\n",
       "      <th>gender</th>\n",
       "      <th>SeniorCitizen</th>\n",
       "      <th>Partner</th>\n",
       "      <th>Dependents</th>\n",
       "      <th>tenure</th>\n",
       "      <th>PhoneService</th>\n",
       "      <th>MultipleLines</th>\n",
       "      <th>InternetService</th>\n",
       "      <th>OnlineSecurity</th>\n",
       "      <th>OnlineBackup</th>\n",
       "      <th>DeviceProtection</th>\n",
       "      <th>TechSupport</th>\n",
       "      <th>StreamingTV</th>\n",
       "      <th>StreamingMovies</th>\n",
       "      <th>Contract</th>\n",
       "      <th>PaperlessBilling</th>\n",
       "      <th>PaymentMethod</th>\n",
       "      <th>MonthlyCharges</th>\n",
       "      <th>TotalCharges</th>\n",
       "    </tr>\n",
       "  </thead>\n",
       "  <tbody>\n",
       "    <tr>\n",
       "      <th>0</th>\n",
       "      <td>8879-ZKJOF</td>\n",
       "      <td>Female</td>\n",
       "      <td>0</td>\n",
       "      <td>No</td>\n",
       "      <td>No</td>\n",
       "      <td>41</td>\n",
       "      <td>Yes</td>\n",
       "      <td>No</td>\n",
       "      <td>DSL</td>\n",
       "      <td>Yes</td>\n",
       "      <td>No</td>\n",
       "      <td>Yes</td>\n",
       "      <td>Yes</td>\n",
       "      <td>Yes</td>\n",
       "      <td>Yes</td>\n",
       "      <td>One year</td>\n",
       "      <td>Yes</td>\n",
       "      <td>Bank transfer (automatic)</td>\n",
       "      <td>79.85</td>\n",
       "      <td>3320.75</td>\n",
       "    </tr>\n",
       "    <tr>\n",
       "      <th>1</th>\n",
       "      <td>0201-MIBOL</td>\n",
       "      <td>Female</td>\n",
       "      <td>1</td>\n",
       "      <td>No</td>\n",
       "      <td>No</td>\n",
       "      <td>66</td>\n",
       "      <td>Yes</td>\n",
       "      <td>Yes</td>\n",
       "      <td>Fiber optic</td>\n",
       "      <td>Yes</td>\n",
       "      <td>No</td>\n",
       "      <td>No</td>\n",
       "      <td>No</td>\n",
       "      <td>Yes</td>\n",
       "      <td>Yes</td>\n",
       "      <td>Two year</td>\n",
       "      <td>Yes</td>\n",
       "      <td>Bank transfer (automatic)</td>\n",
       "      <td>102.40</td>\n",
       "      <td>6471.85</td>\n",
       "    </tr>\n",
       "    <tr>\n",
       "      <th>2</th>\n",
       "      <td>1600-DILPE</td>\n",
       "      <td>Female</td>\n",
       "      <td>0</td>\n",
       "      <td>No</td>\n",
       "      <td>No</td>\n",
       "      <td>12</td>\n",
       "      <td>Yes</td>\n",
       "      <td>No</td>\n",
       "      <td>DSL</td>\n",
       "      <td>No</td>\n",
       "      <td>No</td>\n",
       "      <td>No</td>\n",
       "      <td>No</td>\n",
       "      <td>No</td>\n",
       "      <td>No</td>\n",
       "      <td>Month-to-month</td>\n",
       "      <td>Yes</td>\n",
       "      <td>Bank transfer (automatic)</td>\n",
       "      <td>45.00</td>\n",
       "      <td>524.35</td>\n",
       "    </tr>\n",
       "    <tr>\n",
       "      <th>3</th>\n",
       "      <td>8601-QACRS</td>\n",
       "      <td>Female</td>\n",
       "      <td>0</td>\n",
       "      <td>No</td>\n",
       "      <td>No</td>\n",
       "      <td>5</td>\n",
       "      <td>Yes</td>\n",
       "      <td>Yes</td>\n",
       "      <td>DSL</td>\n",
       "      <td>No</td>\n",
       "      <td>No</td>\n",
       "      <td>No</td>\n",
       "      <td>No</td>\n",
       "      <td>No</td>\n",
       "      <td>No</td>\n",
       "      <td>Month-to-month</td>\n",
       "      <td>Yes</td>\n",
       "      <td>Mailed check</td>\n",
       "      <td>50.60</td>\n",
       "      <td>249.95</td>\n",
       "    </tr>\n",
       "    <tr>\n",
       "      <th>4</th>\n",
       "      <td>7919-ZODZZ</td>\n",
       "      <td>Female</td>\n",
       "      <td>0</td>\n",
       "      <td>Yes</td>\n",
       "      <td>Yes</td>\n",
       "      <td>10</td>\n",
       "      <td>Yes</td>\n",
       "      <td>No</td>\n",
       "      <td>DSL</td>\n",
       "      <td>No</td>\n",
       "      <td>Yes</td>\n",
       "      <td>Yes</td>\n",
       "      <td>No</td>\n",
       "      <td>No</td>\n",
       "      <td>Yes</td>\n",
       "      <td>One year</td>\n",
       "      <td>Yes</td>\n",
       "      <td>Mailed check</td>\n",
       "      <td>65.90</td>\n",
       "      <td>660.05</td>\n",
       "    </tr>\n",
       "  </tbody>\n",
       "</table>\n",
       "</div>"
      ],
      "text/plain": [
       "   customerID  gender  SeniorCitizen Partner Dependents  tenure PhoneService  \\\n",
       "0  8879-ZKJOF  Female              0      No         No      41          Yes   \n",
       "1  0201-MIBOL  Female              1      No         No      66          Yes   \n",
       "2  1600-DILPE  Female              0      No         No      12          Yes   \n",
       "3  8601-QACRS  Female              0      No         No       5          Yes   \n",
       "4  7919-ZODZZ  Female              0     Yes        Yes      10          Yes   \n",
       "\n",
       "  MultipleLines InternetService OnlineSecurity OnlineBackup DeviceProtection  \\\n",
       "0            No             DSL            Yes           No              Yes   \n",
       "1           Yes     Fiber optic            Yes           No               No   \n",
       "2            No             DSL             No           No               No   \n",
       "3           Yes             DSL             No           No               No   \n",
       "4            No             DSL             No          Yes              Yes   \n",
       "\n",
       "  TechSupport StreamingTV StreamingMovies        Contract PaperlessBilling  \\\n",
       "0         Yes         Yes             Yes        One year              Yes   \n",
       "1          No         Yes             Yes        Two year              Yes   \n",
       "2          No          No              No  Month-to-month              Yes   \n",
       "3          No          No              No  Month-to-month              Yes   \n",
       "4          No          No             Yes        One year              Yes   \n",
       "\n",
       "               PaymentMethod  MonthlyCharges TotalCharges  \n",
       "0  Bank transfer (automatic)           79.85      3320.75  \n",
       "1  Bank transfer (automatic)          102.40      6471.85  \n",
       "2  Bank transfer (automatic)           45.00       524.35  \n",
       "3               Mailed check           50.60       249.95  \n",
       "4               Mailed check           65.90       660.05  "
      ]
     },
     "execution_count": 690,
     "metadata": {},
     "output_type": "execute_result"
    }
   ],
   "source": [
    "test_data.head()"
   ]
  },
  {
   "cell_type": "markdown",
   "metadata": {},
   "source": [
    "## Dataset Description"
   ]
  },
  {
   "cell_type": "markdown",
   "metadata": {},
   "source": [
    "<table>\t\t\t\t\t\t\t\n",
    "<th>\tColumns Name\t</th>\t<th>\tDescription\t</th>\t\t\n",
    "<tr>\t<td>\tCustomerID\t</td>\t<td>\tPassenger Identity\t</td>\t</tr>\n",
    "<tr>\t<td>\tGender\t</td>\t<td>\tWhether the customer is a male or a female\t</td>\t</tr>\n",
    "<tr>\t<td>\tSeniorCitizen\t</td>\t<td>\tWhether the customer is a senior citizen or not (1, 0)\t</td>\t</tr>\n",
    "<tr>\t<td>\tPartner\t</td>\t<td>\tWhether the customer has a partner or not (Yes, No)\t</td>\t</tr>\n",
    "<tr>\t<td>\tDependents\t</td>\t<td>\tWhether the customer has dependents or not (Yes, No)\t</td>\t</tr>\n",
    "<tr>\t<td>\tTenure\t</td>\t<td>\tNumber of months the customer has stayed with the company\t</td>\t</tr>\n",
    "<tr>\t<td>\tPhoneService\t</td>\t<td>\tWhether the customer has a phone service or not (Yes, No)\t</td>\t</tr>\n",
    "<tr>\t<td>\tMultipleLines\t</td>\t<td>\tWhether the customer has multiple lines or not (Yes, No, No phone service)\t</td>\t</tr>\n",
    "<tr>\t<td>\tInternetService\t</td>\t<td>\tCustomer’s internet service provider (DSL, Fiber optic, No)\t</td>\t</tr>\n",
    "<tr>\t<td>\tOnlineSecurity\t</td>\t<td>\tWhether the customer has online security or not (Yes, No, No internet service)\t</td>\t</tr>\n",
    "<tr>\t<td>\tOnlineBackup\t</td>\t<td>\tWhether the customer has online backup or not (Yes, No, No internet service)\t</td>\t</tr>\n",
    "<tr>\t<td>\tDeviceProtection\t</td>\t<td>\tWhether the customer has device protection or not (Yes, No, No internet service)\t</td>\t</tr>\n",
    "<tr>\t<td>\tTechSupport\t</td>\t<td>\tWhether the customer has tech support or not (Yes, No, No internet service)\t</td>\t</tr>\n",
    "<tr>\t<td>\tStreamingTV\t</td>\t<td>\tWhether the customer has streaming TV or not (Yes, No, No internet service)\t</td>\t</tr>\n",
    "<tr>\t<td>\tStreamingMovies\t</td>\t<td>\tWhether the customer has streaming movies or not (Yes, No, No internet service)\t</td>\t</tr>\n",
    "<tr>\t<td>\tContract\t</td>\t<td>\tThe contract term of the customer (Month-to-month, One year, Two year)\t</td>\t</tr>\n",
    "<tr>\t<td>\tPaperlessBilling\t</td>\t<td>\tWhether the customer has paperless billing or not (Yes, No)\t</td>\t</tr>\n",
    "<tr>\t<td>\tPaymentMethod\t</td>\t<td>\tThe customer’s payment method (Electronic check, Mailed check, Bank transfer (automatic), Credit card (automatic))\t</td>\t</tr>\n",
    "<tr>\t<td>\tMonthlyCharges\t</td>\t<td>\tThe amount charged to the customer monthly\t</td>\t</tr>\n",
    "<tr>\t<td>\tTotalCharges\t</td>\t<td>\tThe total amount charged to the customer\t</td>\t</tr>\n",
    "<tr>\t<td>\tChurn\t</td>\t<td>\tWhether the customer churned or not (Yes or No)\t</td>\t</tr>\n",
    "</table>\n",
    "\n",
    "\n"
   ]
  },
  {
   "cell_type": "markdown",
   "metadata": {},
   "source": [
    "# Profiling of Train Dataset"
   ]
  },
  {
   "cell_type": "code",
   "execution_count": 691,
   "metadata": {},
   "outputs": [],
   "source": [
    "from pandas_profiling import profile_report"
   ]
  },
  {
   "cell_type": "code",
   "execution_count": 692,
   "metadata": {},
   "outputs": [],
   "source": [
    "Report = train_data.profile_report(title = 'Churn_Prediction')"
   ]
  },
  {
   "cell_type": "code",
   "execution_count": 693,
   "metadata": {},
   "outputs": [],
   "source": [
    "#Report.to_file('Churn_Predication.html')"
   ]
  },
  {
   "cell_type": "markdown",
   "metadata": {},
   "source": [
    "# Dataset Information"
   ]
  },
  {
   "cell_type": "markdown",
   "metadata": {},
   "source": [
    "- Number of variables\t21\n",
    "- Number of observations\t5634\n",
    "- Missing cells\t0\n",
    "- Duplicate rows\t0\n",
    "\n",
    "<h2> Variable types </h2>\n",
    "\n",
    "- Categorical\t14\n",
    "- Boolean\t5\n",
    "- Numeric\t2\n",
    "\n",
    "<br>\n",
    "\n",
    "- 1 Customer Id -  Unique ID of the Customer<br>\n",
    "\n",
    "- 2 Gender - Boolean Value with Male and Female almost Equal Split<br>\n",
    "\n",
    "- 3 Senior Citizen -  It is flag with 1 and 0. 17% of Customers are Senior Citizen in the dataset<br>\n",
    "\n",
    "- 4 Partner - Again Boolean Variable with 48% Customers have Partner<br>\n",
    "\n",
    "- 5 Dependents - Boolean Variable with 30% Customer has dependents\n",
    "\n",
    "- 6 Tenure -  Numeric Columns with Minimum Range - 0Months and Max - 72Months. Mean and Median are almost close to each other\n",
    "\n",
    "- 7 - Phone Service -   Boolean Value. Yes and No. 90% of the customer has phone service(Yes)\n",
    "\n",
    "- 8 -  Multiple Lines - 3 Values , Yes(42%) , No(48% )& No Phone Service(10%)\n",
    "\n",
    "- 9 - Internet Service - Customer ISP - 3 Values , Fiber(44%), DSL(34) & No(22%)\n",
    "\n",
    "- 10 - Online Security - 3 Values Yes -(28%) , No(50%) -  & No Service Provider (22%)  \n",
    "\n",
    "- 11 - Online Backup - 3 Values Yes -(34%) , No(44%) -  & No Service Provider (22%)  \n",
    "\n",
    "- 12 - Device Protection - 3 Values Yes -(34%) , No(44%) -  & No Service Provider (22%)  \n",
    "\n",
    "- 13 - Tech Support - 3 Values Yes -(29%) , No(49%) -  & No Service Provider (22%)  \n",
    "\n",
    "- 14 - Streaming TV - 3 Values Yes -(38%) , No(40%) -  & No Service Provider (22%)  \n",
    "\n",
    "- 15 - Streaming Movies - 3 Values Yes -(39%) , No(39%) -  & No Service Provider (22%)  \n",
    "\n",
    "- 16 - Contract - M2M -(55%) , One Yeaer - (21%)  & Two Year (24%)\n",
    "\n",
    "- 17 - PaperLess Billing -  Boolean - Yes (59%) & No (41%)\n",
    "\n",
    "- 18 - Payment Method - 4 Values - 1) Electronic Check 2) Mailed Check and 3 & 4 - Bank Transfer and CC\n",
    "\n",
    "- 19 - Monthly Charges -  Numeric - Min - 18.25 , Median -  70.4 and Max - 118.65.\n",
    "\n",
    "- 20 - Total Charges - Object Needs to be converted to Integer\n",
    "\n",
    "- 21 - <b> <u> <i>Churn </i></u> </b> - Target Variable - Seems Imbalanced Dataset - No - 74% and Yes 26%\n",
    "\n",
    "\n",
    "\n"
   ]
  },
  {
   "cell_type": "markdown",
   "metadata": {},
   "source": [
    "# Data Preprocessing"
   ]
  },
  {
   "cell_type": "markdown",
   "metadata": {},
   "source": [
    "### TotalCharges conversion from str to Float"
   ]
  },
  {
   "cell_type": "code",
   "execution_count": 694,
   "metadata": {},
   "outputs": [],
   "source": [
    "train_data['TotalCharges']= pd.to_numeric(train_data['TotalCharges'],errors='coerce').astype(float)"
   ]
  },
  {
   "cell_type": "code",
   "execution_count": 695,
   "metadata": {},
   "outputs": [
    {
     "data": {
      "text/plain": [
       "customerID          0\n",
       "gender              0\n",
       "SeniorCitizen       0\n",
       "Partner             0\n",
       "Dependents          0\n",
       "tenure              0\n",
       "PhoneService        0\n",
       "MultipleLines       0\n",
       "InternetService     0\n",
       "OnlineSecurity      0\n",
       "OnlineBackup        0\n",
       "DeviceProtection    0\n",
       "TechSupport         0\n",
       "StreamingTV         0\n",
       "StreamingMovies     0\n",
       "Contract            0\n",
       "PaperlessBilling    0\n",
       "PaymentMethod       0\n",
       "MonthlyCharges      0\n",
       "TotalCharges        8\n",
       "Churn               0\n",
       "dtype: int64"
      ]
     },
     "execution_count": 695,
     "metadata": {},
     "output_type": "execute_result"
    }
   ],
   "source": [
    "train_data.isnull().sum()"
   ]
  },
  {
   "cell_type": "markdown",
   "metadata": {},
   "source": [
    "- Removing Null Values from the train_data"
   ]
  },
  {
   "cell_type": "code",
   "execution_count": 696,
   "metadata": {},
   "outputs": [],
   "source": [
    "train_data.dropna(how='any',inplace=True)"
   ]
  },
  {
   "cell_type": "code",
   "execution_count": 697,
   "metadata": {},
   "outputs": [
    {
     "data": {
      "text/plain": [
       "customerID          0\n",
       "gender              0\n",
       "SeniorCitizen       0\n",
       "Partner             0\n",
       "Dependents          0\n",
       "tenure              0\n",
       "PhoneService        0\n",
       "MultipleLines       0\n",
       "InternetService     0\n",
       "OnlineSecurity      0\n",
       "OnlineBackup        0\n",
       "DeviceProtection    0\n",
       "TechSupport         0\n",
       "StreamingTV         0\n",
       "StreamingMovies     0\n",
       "Contract            0\n",
       "PaperlessBilling    0\n",
       "PaymentMethod       0\n",
       "MonthlyCharges      0\n",
       "TotalCharges        0\n",
       "Churn               0\n",
       "dtype: int64"
      ]
     },
     "execution_count": 697,
     "metadata": {},
     "output_type": "execute_result"
    }
   ],
   "source": [
    "train_data.isnull().sum()"
   ]
  },
  {
   "cell_type": "markdown",
   "metadata": {},
   "source": [
    "- As Churn Data is in Object form(Yes/No) need to convert it to 1's and 0's"
   ]
  },
  {
   "cell_type": "code",
   "execution_count": 698,
   "metadata": {},
   "outputs": [],
   "source": [
    "train_data['Churn'] = train_data['Churn'].apply(lambda x : 1 if x=='Yes' else 0 ).astype(float)"
   ]
  },
  {
   "cell_type": "code",
   "execution_count": 699,
   "metadata": {},
   "outputs": [
    {
     "data": {
      "text/html": [
       "<div>\n",
       "<style scoped>\n",
       "    .dataframe tbody tr th:only-of-type {\n",
       "        vertical-align: middle;\n",
       "    }\n",
       "\n",
       "    .dataframe tbody tr th {\n",
       "        vertical-align: top;\n",
       "    }\n",
       "\n",
       "    .dataframe thead th {\n",
       "        text-align: right;\n",
       "    }\n",
       "</style>\n",
       "<table border=\"1\" class=\"dataframe\">\n",
       "  <thead>\n",
       "    <tr style=\"text-align: right;\">\n",
       "      <th></th>\n",
       "      <th>SeniorCitizen</th>\n",
       "      <th>tenure</th>\n",
       "      <th>MonthlyCharges</th>\n",
       "      <th>TotalCharges</th>\n",
       "      <th>Churn</th>\n",
       "    </tr>\n",
       "  </thead>\n",
       "  <tbody>\n",
       "    <tr>\n",
       "      <th>count</th>\n",
       "      <td>5626.000000</td>\n",
       "      <td>5626.000000</td>\n",
       "      <td>5626.000000</td>\n",
       "      <td>5626.000000</td>\n",
       "      <td>5626.000000</td>\n",
       "    </tr>\n",
       "    <tr>\n",
       "      <th>mean</th>\n",
       "      <td>0.162105</td>\n",
       "      <td>32.323854</td>\n",
       "      <td>64.810380</td>\n",
       "      <td>2280.662380</td>\n",
       "      <td>0.270352</td>\n",
       "    </tr>\n",
       "    <tr>\n",
       "      <th>std</th>\n",
       "      <td>0.368579</td>\n",
       "      <td>24.542455</td>\n",
       "      <td>30.103988</td>\n",
       "      <td>2266.394623</td>\n",
       "      <td>0.444181</td>\n",
       "    </tr>\n",
       "    <tr>\n",
       "      <th>min</th>\n",
       "      <td>0.000000</td>\n",
       "      <td>1.000000</td>\n",
       "      <td>18.250000</td>\n",
       "      <td>18.800000</td>\n",
       "      <td>0.000000</td>\n",
       "    </tr>\n",
       "    <tr>\n",
       "      <th>25%</th>\n",
       "      <td>0.000000</td>\n",
       "      <td>9.000000</td>\n",
       "      <td>35.450000</td>\n",
       "      <td>391.900000</td>\n",
       "      <td>0.000000</td>\n",
       "    </tr>\n",
       "    <tr>\n",
       "      <th>50%</th>\n",
       "      <td>0.000000</td>\n",
       "      <td>29.000000</td>\n",
       "      <td>70.400000</td>\n",
       "      <td>1394.800000</td>\n",
       "      <td>0.000000</td>\n",
       "    </tr>\n",
       "    <tr>\n",
       "      <th>75%</th>\n",
       "      <td>0.000000</td>\n",
       "      <td>55.000000</td>\n",
       "      <td>89.850000</td>\n",
       "      <td>3794.487500</td>\n",
       "      <td>1.000000</td>\n",
       "    </tr>\n",
       "    <tr>\n",
       "      <th>max</th>\n",
       "      <td>1.000000</td>\n",
       "      <td>72.000000</td>\n",
       "      <td>118.650000</td>\n",
       "      <td>8684.800000</td>\n",
       "      <td>1.000000</td>\n",
       "    </tr>\n",
       "  </tbody>\n",
       "</table>\n",
       "</div>"
      ],
      "text/plain": [
       "       SeniorCitizen       tenure  MonthlyCharges  TotalCharges        Churn\n",
       "count    5626.000000  5626.000000     5626.000000   5626.000000  5626.000000\n",
       "mean        0.162105    32.323854       64.810380   2280.662380     0.270352\n",
       "std         0.368579    24.542455       30.103988   2266.394623     0.444181\n",
       "min         0.000000     1.000000       18.250000     18.800000     0.000000\n",
       "25%         0.000000     9.000000       35.450000    391.900000     0.000000\n",
       "50%         0.000000    29.000000       70.400000   1394.800000     0.000000\n",
       "75%         0.000000    55.000000       89.850000   3794.487500     1.000000\n",
       "max         1.000000    72.000000      118.650000   8684.800000     1.000000"
      ]
     },
     "execution_count": 699,
     "metadata": {},
     "output_type": "execute_result"
    }
   ],
   "source": [
    "train_data.describe()"
   ]
  },
  {
   "cell_type": "markdown",
   "metadata": {},
   "source": [
    "#  EDA - Exploratory Data Analysis"
   ]
  },
  {
   "cell_type": "markdown",
   "metadata": {},
   "source": [
    "## Univariate & Multivariate Analysis"
   ]
  },
  {
   "cell_type": "markdown",
   "metadata": {},
   "source": [
    "### 1 - Distribution of Gender/Partner/Dependents/SeniorCitizens."
   ]
  },
  {
   "cell_type": "code",
   "execution_count": 700,
   "metadata": {},
   "outputs": [
    {
     "data": {
      "text/plain": [
       "<AxesSubplot:ylabel='Dependents'>"
      ]
     },
     "execution_count": 700,
     "metadata": {},
     "output_type": "execute_result"
    },
    {
     "data": {
      "image/png": "[encoded data removed]",
      "text/plain": [
       "<Figure size 720x864 with 4 Axes>"
      ]
     },
     "metadata": {},
     "output_type": "display_data"
    }
   ],
   "source": [
    "f,axes = plt.subplots(1,4,figsize=(10,12))\n",
    "train_data['gender'].value_counts().plot(kind='pie',ax=axes[0],autopct='%1.1f%%')\n",
    "train_data['SeniorCitizen'].value_counts().plot(kind='pie',ax=axes[1],autopct='%1.1f%%')\n",
    "train_data['Partner'].value_counts().plot(kind='pie',ax=axes[2],autopct='%1.1f%%')\n",
    "train_data['Dependents'].value_counts().plot(kind='pie',ax=axes[3],autopct='%1.1f%%')"
   ]
  },
  {
   "cell_type": "markdown",
   "metadata": {},
   "source": [
    "*  Male and Female have almost equal proportion\n",
    "*  Most of the customers are younger in age due to less contribution of Senior Citizen\n",
    "*  Almost Half of the base have Partners\n",
    "*  Most of the Customers don't have dependets"
   ]
  },
  {
   "cell_type": "code",
   "execution_count": 701,
   "metadata": {},
   "outputs": [
    {
     "data": {
      "text/plain": [
       "Index(['customerID', 'gender', 'SeniorCitizen', 'Partner', 'Dependents',\n",
       "       'tenure', 'PhoneService', 'MultipleLines', 'InternetService',\n",
       "       'OnlineSecurity', 'OnlineBackup', 'DeviceProtection', 'TechSupport',\n",
       "       'StreamingTV', 'StreamingMovies', 'Contract', 'PaperlessBilling',\n",
       "       'PaymentMethod', 'MonthlyCharges', 'TotalCharges', 'Churn'],\n",
       "      dtype='object')"
      ]
     },
     "execution_count": 701,
     "metadata": {},
     "output_type": "execute_result"
    }
   ],
   "source": [
    "train_data.columns"
   ]
  },
  {
   "cell_type": "markdown",
   "metadata": {},
   "source": [
    "### 2 - Distribution of Other Categorical Variables"
   ]
  },
  {
   "cell_type": "code",
   "execution_count": 702,
   "metadata": {},
   "outputs": [
    {
     "data": {
      "text/plain": [
       "(array([0, 1, 2, 3]),\n",
       " [Text(0, 0, 'Mailed check'),\n",
       "  Text(1, 0, 'Credit card (automatic)'),\n",
       "  Text(2, 0, 'Bank transfer (automatic)'),\n",
       "  Text(3, 0, 'Electronic check')])"
      ]
     },
     "execution_count": 702,
     "metadata": {},
     "output_type": "execute_result"
    },
    {
     "data": {
      "image/png": "[encoded data removed]",
      "text/plain": [
       "<Figure size 936x864 with 12 Axes>"
      ]
     },
     "metadata": {
      "needs_background": "light"
     },
     "output_type": "display_data"
    }
   ],
   "source": [
    "f,axes = plt.subplots(4,3,figsize=(13,12)) ## Details of the analysis also explained in Data Description Above\n",
    "sns.countplot(data=train_data,x='PhoneService', ax = axes[0,0])\n",
    "sns.countplot(data=train_data,x='MultipleLines', ax = axes[0,1])\n",
    "sns.countplot(data=train_data,x='InternetService', ax = axes[0,2])\n",
    "sns.countplot(data=train_data,x='OnlineSecurity', ax = axes[1,0])\n",
    "sns.countplot(data=train_data,x='OnlineBackup', ax = axes[1,1])\n",
    "sns.countplot(data=train_data,x='DeviceProtection', ax = axes[1,2])\n",
    "sns.countplot(data=train_data,x='TechSupport', ax = axes[2,0])\n",
    "sns.countplot(data=train_data,x='StreamingTV', ax = axes[2,1])\n",
    "sns.countplot(data=train_data,x='StreamingMovies', ax = axes[2,2])\n",
    "sns.countplot(data=train_data,x='Contract', ax = axes[3,0])\n",
    "sns.countplot(data=train_data,x='PaperlessBilling', ax = axes[3,1])\n",
    "sns.countplot(data=train_data,x='PaymentMethod', ax = axes[3,2])\n",
    "plt.xticks(rotation=90)"
   ]
  },
  {
   "cell_type": "markdown",
   "metadata": {},
   "source": [
    "### 3 - Tenure Distribution"
   ]
  },
  {
   "cell_type": "code",
   "execution_count": 703,
   "metadata": {},
   "outputs": [
    {
     "data": {
      "text/plain": [
       "<AxesSubplot:xlabel='tenure', ylabel='Count'>"
      ]
     },
     "execution_count": 703,
     "metadata": {},
     "output_type": "execute_result"
    },
    {
     "data": {
      "image/png": "[encoded data removed]",
      "text/plain": [
       "<Figure size 432x288 with 1 Axes>"
      ]
     },
     "metadata": {
      "needs_background": "light"
     },
     "output_type": "display_data"
    }
   ],
   "source": [
    "sns.histplot(train_data.tenure,bins=np.arange(0,50,1))"
   ]
  },
  {
   "cell_type": "markdown",
   "metadata": {},
   "source": [
    "- By Looking at histogram of Tenure, we can see most of the customer are within company with less than 1Month Tenure\n",
    "\n",
    "To understand better, let us try to see the same relationship with Churn Variable\n",
    "\n"
   ]
  },
  {
   "cell_type": "code",
   "execution_count": 704,
   "metadata": {},
   "outputs": [
    {
     "data": {
      "image/png": "[encoded data removed]",
      "text/plain": [
       "<Figure size 720x216 with 2 Axes>"
      ]
     },
     "metadata": {
      "needs_background": "light"
     },
     "output_type": "display_data"
    }
   ],
   "source": [
    "f,axes = plt.subplots(1,2,figsize=(10,3))\n",
    "sns.histplot(y=train_data.tenure[train_data['Churn']==1],bins=np.arange(0,50,1),color='red',ax = axes[0]);\n",
    "sns.histplot(y=train_data.tenure[train_data['Churn']==0],bins=np.arange(0,50,1),color='blue',ax=axes[1]);"
   ]
  },
  {
   "cell_type": "markdown",
   "metadata": {},
   "source": [
    "- <b>Chart Clearly shows that Customer who has churned have been there with the company for less than 1month.</b>"
   ]
  },
  {
   "cell_type": "markdown",
   "metadata": {},
   "source": [
    "### 4 - Relationship of TotalCharges and MonthlyCharges "
   ]
  },
  {
   "cell_type": "code",
   "execution_count": 705,
   "metadata": {},
   "outputs": [
    {
     "data": {
      "text/plain": [
       "<AxesSubplot:xlabel='MonthlyCharges', ylabel='TotalCharges'>"
      ]
     },
     "execution_count": 705,
     "metadata": {},
     "output_type": "execute_result"
    },
    {
     "data": {
      "image/png": "[encoded data removed]",
      "text/plain": [
       "<Figure size 432x288 with 1 Axes>"
      ]
     },
     "metadata": {
      "needs_background": "light"
     },
     "output_type": "display_data"
    }
   ],
   "source": [
    "sns.scatterplot(data=train_data,y='TotalCharges',x='MonthlyCharges')"
   ]
  },
  {
   "cell_type": "markdown",
   "metadata": {},
   "source": [
    "- <b>Total Charges Increases as Monthly Charges Increases</b>"
   ]
  },
  {
   "cell_type": "markdown",
   "metadata": {},
   "source": [
    "### 5 - Contract relationship with Churn Variable"
   ]
  },
  {
   "cell_type": "code",
   "execution_count": 706,
   "metadata": {},
   "outputs": [
    {
     "data": {
      "text/plain": [
       "<AxesSubplot:xlabel='count', ylabel='Contract'>"
      ]
     },
     "execution_count": 706,
     "metadata": {},
     "output_type": "execute_result"
    },
    {
     "data": {
      "image/png": "[encoded data removed]",
      "text/plain": [
       "<Figure size 432x288 with 1 Axes>"
      ]
     },
     "metadata": {
      "needs_background": "light"
     },
     "output_type": "display_data"
    }
   ],
   "source": [
    "sns.countplot(data=train_data,y='Contract',hue='Churn') "
   ]
  },
  {
   "cell_type": "markdown",
   "metadata": {},
   "source": [
    "- #### Major Churned Customers are from Month to Month Contract"
   ]
  },
  {
   "cell_type": "markdown",
   "metadata": {},
   "source": [
    "### 6 - Churn Relationship with Other Variables"
   ]
  },
  {
   "cell_type": "code",
   "execution_count": 707,
   "metadata": {},
   "outputs": [
    {
     "data": {
      "text/plain": [
       "gender  Churn\n",
       "Male    0.0      2086\n",
       "Female  0.0      2019\n",
       "        1.0       774\n",
       "Male    1.0       747\n",
       "dtype: int64"
      ]
     },
     "execution_count": 707,
     "metadata": {},
     "output_type": "execute_result"
    }
   ],
   "source": [
    "# 1 - Gender\n",
    "train_data[['gender','Churn']].value_counts() ### Almost equal Distribution in both Male and Females"
   ]
  },
  {
   "cell_type": "code",
   "execution_count": 708,
   "metadata": {},
   "outputs": [
    {
     "data": {
      "image/png": "[encoded data removed]",
      "text/plain": [
       "<Figure size 576x360 with 2 Axes>"
      ]
     },
     "metadata": {},
     "output_type": "display_data"
    }
   ],
   "source": [
    "# 2 - Senior Citizen\n",
    "f,axes = plt.subplots(1,2,figsize=(8,5))\n",
    "\n",
    "plt.title('Senior Citizen')\n",
    "train_data[train_data['SeniorCitizen']==1]['Churn'].value_counts().plot(kind='pie',autopct='%1.1f%%',ax = axes[0],);\n",
    "plt.title('Not Senior Citizen')\n",
    "train_data[train_data['SeniorCitizen']==0]['Churn'].value_counts().plot(kind='pie',autopct='%1.1f%%',ax=axes[1]);"
   ]
  },
  {
   "cell_type": "markdown",
   "metadata": {},
   "source": [
    "####  Almost 40% of Senior Citizens in the Dataset have churned compared to Non Senior Citizen"
   ]
  },
  {
   "cell_type": "code",
   "execution_count": 709,
   "metadata": {},
   "outputs": [
    {
     "data": {
      "image/png": "[encoded data removed]",
      "text/plain": [
       "<Figure size 432x288 with 1 Axes>"
      ]
     },
     "metadata": {
      "needs_background": "light"
     },
     "output_type": "display_data"
    }
   ],
   "source": [
    "# 3 - MonthlyCharges \n",
    "plt.xlabel('MonthlyCharges')\n",
    "\n",
    "train_data[train_data['Churn']==1]['MonthlyCharges'].plot(kind='kde',color='red');\n",
    "\n",
    "train_data[train_data['Churn']==0]['MonthlyCharges'].plot(kind='kde',color='blue');\n"
   ]
  },
  {
   "cell_type": "markdown",
   "metadata": {},
   "source": [
    "#### Churn is higher in the segment when the Month Charges are high"
   ]
  },
  {
   "cell_type": "code",
   "execution_count": 710,
   "metadata": {},
   "outputs": [
    {
     "data": {
      "text/plain": [
       "MultipleLines     Churn\n",
       "No                0.0      35.584785\n",
       "                  1.0      12.353359\n",
       "No phone service  0.0       7.340917\n",
       "                  1.0       2.346250\n",
       "Yes               0.0      30.039104\n",
       "                  1.0      12.335585\n",
       "Name: customerID, dtype: float64"
      ]
     },
     "execution_count": 710,
     "metadata": {},
     "output_type": "execute_result"
    }
   ],
   "source": [
    "#4 - MultipleLines\n",
    "train_data.groupby(by=['MultipleLines','Churn'])['customerID'].count()/len(train_data)*100 # No Major Relationship can be established with Target variable "
   ]
  },
  {
   "cell_type": "code",
   "execution_count": 711,
   "metadata": {},
   "outputs": [
    {
     "data": {
      "text/plain": [
       "InternetService  Churn\n",
       "DSL              0.0      27.692855\n",
       "                 1.0       6.612158\n",
       "Fiber optic      0.0      25.328830\n",
       "                 1.0      18.734447\n",
       "No               0.0      19.943121\n",
       "                 1.0       1.688589\n",
       "Name: customerID, dtype: float64"
      ]
     },
     "execution_count": 711,
     "metadata": {},
     "output_type": "execute_result"
    }
   ],
   "source": [
    "#5 - Internet Service \n",
    "train_data.groupby(by=['InternetService','Churn'])['customerID'].count()/len(train_data)*100# FiberOptic "
   ]
  },
  {
   "cell_type": "markdown",
   "metadata": {},
   "source": [
    "#### Customer having Fiber Optic have Churned more compared to Other Categories"
   ]
  },
  {
   "cell_type": "markdown",
   "metadata": {},
   "source": [
    "### To Understand remaining Variables, We Will convert Categorical Variable into numerical Variable and use Coorealtion Matrix"
   ]
  },
  {
   "cell_type": "code",
   "execution_count": 712,
   "metadata": {},
   "outputs": [],
   "source": [
    "CoMatrix = pd.get_dummies(train_data.drop('customerID',axis=1),drop_first=True)"
   ]
  },
  {
   "cell_type": "code",
   "execution_count": 713,
   "metadata": {},
   "outputs": [
    {
     "data": {
      "text/plain": [
       "Churn                                    1.000000\n",
       "InternetService_Fiber optic              0.309381\n",
       "PaymentMethod_Electronic check           0.297480\n",
       "MonthlyCharges                           0.196372\n",
       "PaperlessBilling_Yes                     0.183856\n",
       "SeniorCitizen                            0.141643\n",
       "StreamingMovies_Yes                      0.066841\n",
       "StreamingTV_Yes                          0.058370\n",
       "MultipleLines_Yes                        0.040073\n",
       "PhoneService_Yes                         0.020758\n",
       "gender_Male                             -0.015134\n",
       "MultipleLines_No phone service          -0.020758\n",
       "DeviceProtection_Yes                    -0.064579\n",
       "OnlineBackup_Yes                        -0.085263\n",
       "PaymentMethod_Mailed check              -0.093479\n",
       "PaymentMethod_Credit card (automatic)   -0.125179\n",
       "Partner_Yes                             -0.140087\n",
       "Dependents_Yes                          -0.151197\n",
       "TechSupport_Yes                         -0.158300\n",
       "OnlineSecurity_Yes                      -0.166286\n",
       "Contract_One year                       -0.174081\n",
       "TotalCharges                            -0.197416\n",
       "DeviceProtection_No internet service    -0.227464\n",
       "OnlineSecurity_No internet service      -0.227464\n",
       "InternetService_No                      -0.227464\n",
       "TechSupport_No internet service         -0.227464\n",
       "StreamingTV_No internet service         -0.227464\n",
       "StreamingMovies_No internet service     -0.227464\n",
       "OnlineBackup_No internet service        -0.227464\n",
       "Contract_Two year                       -0.304128\n",
       "tenure                                  -0.353550\n",
       "Name: Churn, dtype: float64"
      ]
     },
     "execution_count": 713,
     "metadata": {},
     "output_type": "execute_result"
    }
   ],
   "source": [
    "plt.figsize=(10,5)\n",
    "CoMatrix.corr()['Churn'].sort_values(ascending=False)"
   ]
  },
  {
   "cell_type": "markdown",
   "metadata": {},
   "source": [
    "##### - Positive Corelated Variables with respect to Churn - 1) ISP=Fiber,2)PaymentMode-EC,3)MonthlyCharges\n",
    "##### - Negative Corelated Variables with respect to Churn - 1) Tenure,2)2yearContract,3)NoInternetService"
   ]
  },
  {
   "cell_type": "markdown",
   "metadata": {},
   "source": [
    "# Modelling Part - Logistic Regression (Binary Classificaion)"
   ]
  },
  {
   "cell_type": "markdown",
   "metadata": {},
   "source": [
    "##### Splitting into X_train and Y_train"
   ]
  },
  {
   "cell_type": "code",
   "execution_count": 714,
   "metadata": {},
   "outputs": [],
   "source": [
    "X_train = CoMatrix.drop('Churn',axis=1)\n",
    "y_train = CoMatrix['Churn']"
   ]
  },
  {
   "cell_type": "code",
   "execution_count": 715,
   "metadata": {},
   "outputs": [
    {
     "name": "stdout",
     "output_type": "stream",
     "text": [
      "(5626, 30)\n",
      "(5626,)\n"
     ]
    }
   ],
   "source": [
    "print(X_train.shape)\n",
    "print(y_train.shape)"
   ]
  },
  {
   "cell_type": "markdown",
   "metadata": {},
   "source": [
    "##### Importing All necessary Sklearn Libraries"
   ]
  },
  {
   "cell_type": "code",
   "execution_count": 716,
   "metadata": {},
   "outputs": [],
   "source": [
    "from sklearn.preprocessing import StandardScaler ## For Scaling Purpose\n",
    "from sklearn.metrics import accuracy_score,f1_score,confusion_matrix,precision_score,recall_score\n",
    "from sklearn.linear_model import LogisticRegression"
   ]
  },
  {
   "cell_type": "markdown",
   "metadata": {},
   "source": [
    "##### Scaling X_Train"
   ]
  },
  {
   "cell_type": "code",
   "execution_count": 717,
   "metadata": {},
   "outputs": [],
   "source": [
    "SS = StandardScaler()\n",
    "X_train[X_train.columns] = SS.fit_transform(X_train)"
   ]
  },
  {
   "cell_type": "code",
   "execution_count": 718,
   "metadata": {},
   "outputs": [
    {
     "data": {
      "text/html": [
       "<div>\n",
       "<style scoped>\n",
       "    .dataframe tbody tr th:only-of-type {\n",
       "        vertical-align: middle;\n",
       "    }\n",
       "\n",
       "    .dataframe tbody tr th {\n",
       "        vertical-align: top;\n",
       "    }\n",
       "\n",
       "    .dataframe thead th {\n",
       "        text-align: right;\n",
       "    }\n",
       "</style>\n",
       "<table border=\"1\" class=\"dataframe\">\n",
       "  <thead>\n",
       "    <tr style=\"text-align: right;\">\n",
       "      <th></th>\n",
       "      <th>count</th>\n",
       "      <th>mean</th>\n",
       "      <th>std</th>\n",
       "      <th>min</th>\n",
       "      <th>25%</th>\n",
       "      <th>50%</th>\n",
       "      <th>75%</th>\n",
       "      <th>max</th>\n",
       "    </tr>\n",
       "  </thead>\n",
       "  <tbody>\n",
       "    <tr>\n",
       "      <th>SeniorCitizen</th>\n",
       "      <td>5626.0</td>\n",
       "      <td>6.964449e-16</td>\n",
       "      <td>1.000089</td>\n",
       "      <td>-0.439848</td>\n",
       "      <td>-0.439848</td>\n",
       "      <td>-0.439848</td>\n",
       "      <td>-0.439848</td>\n",
       "      <td>2.273513</td>\n",
       "    </tr>\n",
       "    <tr>\n",
       "      <th>tenure</th>\n",
       "      <td>5626.0</td>\n",
       "      <td>8.100721e-17</td>\n",
       "      <td>1.000089</td>\n",
       "      <td>-1.276426</td>\n",
       "      <td>-0.950432</td>\n",
       "      <td>-0.135445</td>\n",
       "      <td>0.924038</td>\n",
       "      <td>1.616777</td>\n",
       "    </tr>\n",
       "    <tr>\n",
       "      <th>MonthlyCharges</th>\n",
       "      <td>5626.0</td>\n",
       "      <td>6.414715e-17</td>\n",
       "      <td>1.000089</td>\n",
       "      <td>-1.546789</td>\n",
       "      <td>-0.975385</td>\n",
       "      <td>0.185694</td>\n",
       "      <td>0.831845</td>\n",
       "      <td>1.788614</td>\n",
       "    </tr>\n",
       "    <tr>\n",
       "      <th>TotalCharges</th>\n",
       "      <td>5626.0</td>\n",
       "      <td>-7.106138e-17</td>\n",
       "      <td>1.000089</td>\n",
       "      <td>-0.998089</td>\n",
       "      <td>-0.833452</td>\n",
       "      <td>-0.390903</td>\n",
       "      <td>0.668004</td>\n",
       "      <td>2.825945</td>\n",
       "    </tr>\n",
       "    <tr>\n",
       "      <th>gender_Male</th>\n",
       "      <td>5626.0</td>\n",
       "      <td>2.641170e-16</td>\n",
       "      <td>1.000089</td>\n",
       "      <td>-1.007135</td>\n",
       "      <td>-1.007135</td>\n",
       "      <td>0.992915</td>\n",
       "      <td>0.992915</td>\n",
       "      <td>0.992915</td>\n",
       "    </tr>\n",
       "    <tr>\n",
       "      <th>Partner_Yes</th>\n",
       "      <td>5626.0</td>\n",
       "      <td>8.188733e-16</td>\n",
       "      <td>1.000089</td>\n",
       "      <td>-0.959237</td>\n",
       "      <td>-0.959237</td>\n",
       "      <td>-0.959237</td>\n",
       "      <td>1.042495</td>\n",
       "      <td>1.042495</td>\n",
       "    </tr>\n",
       "    <tr>\n",
       "      <th>Dependents_Yes</th>\n",
       "      <td>5626.0</td>\n",
       "      <td>-1.814325e-16</td>\n",
       "      <td>1.000089</td>\n",
       "      <td>-0.646408</td>\n",
       "      <td>-0.646408</td>\n",
       "      <td>-0.646408</td>\n",
       "      <td>1.547012</td>\n",
       "      <td>1.547012</td>\n",
       "    </tr>\n",
       "    <tr>\n",
       "      <th>PhoneService_Yes</th>\n",
       "      <td>5626.0</td>\n",
       "      <td>-6.120435e-16</td>\n",
       "      <td>1.000089</td>\n",
       "      <td>-3.053348</td>\n",
       "      <td>0.327509</td>\n",
       "      <td>0.327509</td>\n",
       "      <td>0.327509</td>\n",
       "      <td>0.327509</td>\n",
       "    </tr>\n",
       "    <tr>\n",
       "      <th>MultipleLines_No phone service</th>\n",
       "      <td>5626.0</td>\n",
       "      <td>7.899041e-16</td>\n",
       "      <td>1.000089</td>\n",
       "      <td>-0.327509</td>\n",
       "      <td>-0.327509</td>\n",
       "      <td>-0.327509</td>\n",
       "      <td>-0.327509</td>\n",
       "      <td>3.053348</td>\n",
       "    </tr>\n",
       "    <tr>\n",
       "      <th>MultipleLines_Yes</th>\n",
       "      <td>5626.0</td>\n",
       "      <td>1.878459e-16</td>\n",
       "      <td>1.000089</td>\n",
       "      <td>-0.857525</td>\n",
       "      <td>-0.857525</td>\n",
       "      <td>-0.857525</td>\n",
       "      <td>1.166147</td>\n",
       "      <td>1.166147</td>\n",
       "    </tr>\n",
       "    <tr>\n",
       "      <th>InternetService_Fiber optic</th>\n",
       "      <td>5626.0</td>\n",
       "      <td>-4.945288e-17</td>\n",
       "      <td>1.000089</td>\n",
       "      <td>-0.887544</td>\n",
       "      <td>-0.887544</td>\n",
       "      <td>-0.887544</td>\n",
       "      <td>1.126705</td>\n",
       "      <td>1.126705</td>\n",
       "    </tr>\n",
       "    <tr>\n",
       "      <th>InternetService_No</th>\n",
       "      <td>5626.0</td>\n",
       "      <td>-2.146642e-16</td>\n",
       "      <td>1.000089</td>\n",
       "      <td>-0.525382</td>\n",
       "      <td>-0.525382</td>\n",
       "      <td>-0.525382</td>\n",
       "      <td>-0.525382</td>\n",
       "      <td>1.903377</td>\n",
       "    </tr>\n",
       "    <tr>\n",
       "      <th>OnlineSecurity_No internet service</th>\n",
       "      <td>5626.0</td>\n",
       "      <td>-2.146642e-16</td>\n",
       "      <td>1.000089</td>\n",
       "      <td>-0.525382</td>\n",
       "      <td>-0.525382</td>\n",
       "      <td>-0.525382</td>\n",
       "      <td>-0.525382</td>\n",
       "      <td>1.903377</td>\n",
       "    </tr>\n",
       "    <tr>\n",
       "      <th>OnlineSecurity_Yes</th>\n",
       "      <td>5626.0</td>\n",
       "      <td>3.602601e-16</td>\n",
       "      <td>1.000089</td>\n",
       "      <td>-0.632613</td>\n",
       "      <td>-0.632613</td>\n",
       "      <td>-0.632613</td>\n",
       "      <td>1.580745</td>\n",
       "      <td>1.580745</td>\n",
       "    </tr>\n",
       "    <tr>\n",
       "      <th>OnlineBackup_No internet service</th>\n",
       "      <td>5626.0</td>\n",
       "      <td>-2.146642e-16</td>\n",
       "      <td>1.000089</td>\n",
       "      <td>-0.525382</td>\n",
       "      <td>-0.525382</td>\n",
       "      <td>-0.525382</td>\n",
       "      <td>-0.525382</td>\n",
       "      <td>1.903377</td>\n",
       "    </tr>\n",
       "    <tr>\n",
       "      <th>OnlineBackup_Yes</th>\n",
       "      <td>5626.0</td>\n",
       "      <td>4.132256e-16</td>\n",
       "      <td>1.000089</td>\n",
       "      <td>-0.717502</td>\n",
       "      <td>-0.717502</td>\n",
       "      <td>-0.717502</td>\n",
       "      <td>1.393725</td>\n",
       "      <td>1.393725</td>\n",
       "    </tr>\n",
       "    <tr>\n",
       "      <th>DeviceProtection_No internet service</th>\n",
       "      <td>5626.0</td>\n",
       "      <td>-2.146642e-16</td>\n",
       "      <td>1.000089</td>\n",
       "      <td>-0.525382</td>\n",
       "      <td>-0.525382</td>\n",
       "      <td>-0.525382</td>\n",
       "      <td>-0.525382</td>\n",
       "      <td>1.903377</td>\n",
       "    </tr>\n",
       "    <tr>\n",
       "      <th>DeviceProtection_Yes</th>\n",
       "      <td>5626.0</td>\n",
       "      <td>-1.845504e-16</td>\n",
       "      <td>1.000089</td>\n",
       "      <td>-0.724620</td>\n",
       "      <td>-0.724620</td>\n",
       "      <td>-0.724620</td>\n",
       "      <td>1.380033</td>\n",
       "      <td>1.380033</td>\n",
       "    </tr>\n",
       "    <tr>\n",
       "      <th>TechSupport_No internet service</th>\n",
       "      <td>5626.0</td>\n",
       "      <td>-2.146642e-16</td>\n",
       "      <td>1.000089</td>\n",
       "      <td>-0.525382</td>\n",
       "      <td>-0.525382</td>\n",
       "      <td>-0.525382</td>\n",
       "      <td>-0.525382</td>\n",
       "      <td>1.903377</td>\n",
       "    </tr>\n",
       "    <tr>\n",
       "      <th>TechSupport_Yes</th>\n",
       "      <td>5626.0</td>\n",
       "      <td>1.107381e-15</td>\n",
       "      <td>1.000089</td>\n",
       "      <td>-0.638401</td>\n",
       "      <td>-0.638401</td>\n",
       "      <td>-0.638401</td>\n",
       "      <td>1.566414</td>\n",
       "      <td>1.566414</td>\n",
       "    </tr>\n",
       "    <tr>\n",
       "      <th>StreamingTV_No internet service</th>\n",
       "      <td>5626.0</td>\n",
       "      <td>-2.146642e-16</td>\n",
       "      <td>1.000089</td>\n",
       "      <td>-0.525382</td>\n",
       "      <td>-0.525382</td>\n",
       "      <td>-0.525382</td>\n",
       "      <td>-0.525382</td>\n",
       "      <td>1.903377</td>\n",
       "    </tr>\n",
       "    <tr>\n",
       "      <th>StreamingTV_Yes</th>\n",
       "      <td>5626.0</td>\n",
       "      <td>-1.411755e-16</td>\n",
       "      <td>1.000089</td>\n",
       "      <td>-0.790615</td>\n",
       "      <td>-0.790615</td>\n",
       "      <td>-0.790615</td>\n",
       "      <td>1.264838</td>\n",
       "      <td>1.264838</td>\n",
       "    </tr>\n",
       "    <tr>\n",
       "      <th>StreamingMovies_No internet service</th>\n",
       "      <td>5626.0</td>\n",
       "      <td>-2.146642e-16</td>\n",
       "      <td>1.000089</td>\n",
       "      <td>-0.525382</td>\n",
       "      <td>-0.525382</td>\n",
       "      <td>-0.525382</td>\n",
       "      <td>-0.525382</td>\n",
       "      <td>1.903377</td>\n",
       "    </tr>\n",
       "    <tr>\n",
       "      <th>StreamingMovies_Yes</th>\n",
       "      <td>5626.0</td>\n",
       "      <td>-1.036813e-16</td>\n",
       "      <td>1.000089</td>\n",
       "      <td>-0.801043</td>\n",
       "      <td>-0.801043</td>\n",
       "      <td>-0.801043</td>\n",
       "      <td>1.248373</td>\n",
       "      <td>1.248373</td>\n",
       "    </tr>\n",
       "    <tr>\n",
       "      <th>Contract_One year</th>\n",
       "      <td>5626.0</td>\n",
       "      <td>5.519541e-16</td>\n",
       "      <td>1.000089</td>\n",
       "      <td>-0.516558</td>\n",
       "      <td>-0.516558</td>\n",
       "      <td>-0.516558</td>\n",
       "      <td>-0.516558</td>\n",
       "      <td>1.935892</td>\n",
       "    </tr>\n",
       "    <tr>\n",
       "      <th>Contract_Two year</th>\n",
       "      <td>5626.0</td>\n",
       "      <td>7.104559e-16</td>\n",
       "      <td>1.000089</td>\n",
       "      <td>-0.558326</td>\n",
       "      <td>-0.558326</td>\n",
       "      <td>-0.558326</td>\n",
       "      <td>-0.558326</td>\n",
       "      <td>1.791069</td>\n",
       "    </tr>\n",
       "    <tr>\n",
       "      <th>PaperlessBilling_Yes</th>\n",
       "      <td>5626.0</td>\n",
       "      <td>1.146178e-15</td>\n",
       "      <td>1.000089</td>\n",
       "      <td>-1.199003</td>\n",
       "      <td>-1.199003</td>\n",
       "      <td>0.834026</td>\n",
       "      <td>0.834026</td>\n",
       "      <td>0.834026</td>\n",
       "    </tr>\n",
       "    <tr>\n",
       "      <th>PaymentMethod_Credit card (automatic)</th>\n",
       "      <td>5626.0</td>\n",
       "      <td>-1.037326e-15</td>\n",
       "      <td>1.000089</td>\n",
       "      <td>-0.525107</td>\n",
       "      <td>-0.525107</td>\n",
       "      <td>-0.525107</td>\n",
       "      <td>-0.525107</td>\n",
       "      <td>1.904375</td>\n",
       "    </tr>\n",
       "    <tr>\n",
       "      <th>PaymentMethod_Electronic check</th>\n",
       "      <td>5626.0</td>\n",
       "      <td>1.974563e-16</td>\n",
       "      <td>1.000089</td>\n",
       "      <td>-0.712109</td>\n",
       "      <td>-0.712109</td>\n",
       "      <td>-0.712109</td>\n",
       "      <td>1.404280</td>\n",
       "      <td>1.404280</td>\n",
       "    </tr>\n",
       "    <tr>\n",
       "      <th>PaymentMethod_Mailed check</th>\n",
       "      <td>5626.0</td>\n",
       "      <td>9.476363e-16</td>\n",
       "      <td>1.000089</td>\n",
       "      <td>-0.548187</td>\n",
       "      <td>-0.548187</td>\n",
       "      <td>-0.548187</td>\n",
       "      <td>-0.548187</td>\n",
       "      <td>1.824196</td>\n",
       "    </tr>\n",
       "  </tbody>\n",
       "</table>\n",
       "</div>"
      ],
      "text/plain": [
       "                                        count          mean       std  \\\n",
       "SeniorCitizen                          5626.0  6.964449e-16  1.000089   \n",
       "tenure                                 5626.0  8.100721e-17  1.000089   \n",
       "MonthlyCharges                         5626.0  6.414715e-17  1.000089   \n",
       "TotalCharges                           5626.0 -7.106138e-17  1.000089   \n",
       "gender_Male                            5626.0  2.641170e-16  1.000089   \n",
       "Partner_Yes                            5626.0  8.188733e-16  1.000089   \n",
       "Dependents_Yes                         5626.0 -1.814325e-16  1.000089   \n",
       "PhoneService_Yes                       5626.0 -6.120435e-16  1.000089   \n",
       "MultipleLines_No phone service         5626.0  7.899041e-16  1.000089   \n",
       "MultipleLines_Yes                      5626.0  1.878459e-16  1.000089   \n",
       "InternetService_Fiber optic            5626.0 -4.945288e-17  1.000089   \n",
       "InternetService_No                     5626.0 -2.146642e-16  1.000089   \n",
       "OnlineSecurity_No internet service     5626.0 -2.146642e-16  1.000089   \n",
       "OnlineSecurity_Yes                     5626.0  3.602601e-16  1.000089   \n",
       "OnlineBackup_No internet service       5626.0 -2.146642e-16  1.000089   \n",
       "OnlineBackup_Yes                       5626.0  4.132256e-16  1.000089   \n",
       "DeviceProtection_No internet service   5626.0 -2.146642e-16  1.000089   \n",
       "DeviceProtection_Yes                   5626.0 -1.845504e-16  1.000089   \n",
       "TechSupport_No internet service        5626.0 -2.146642e-16  1.000089   \n",
       "TechSupport_Yes                        5626.0  1.107381e-15  1.000089   \n",
       "StreamingTV_No internet service        5626.0 -2.146642e-16  1.000089   \n",
       "StreamingTV_Yes                        5626.0 -1.411755e-16  1.000089   \n",
       "StreamingMovies_No internet service    5626.0 -2.146642e-16  1.000089   \n",
       "StreamingMovies_Yes                    5626.0 -1.036813e-16  1.000089   \n",
       "Contract_One year                      5626.0  5.519541e-16  1.000089   \n",
       "Contract_Two year                      5626.0  7.104559e-16  1.000089   \n",
       "PaperlessBilling_Yes                   5626.0  1.146178e-15  1.000089   \n",
       "PaymentMethod_Credit card (automatic)  5626.0 -1.037326e-15  1.000089   \n",
       "PaymentMethod_Electronic check         5626.0  1.974563e-16  1.000089   \n",
       "PaymentMethod_Mailed check             5626.0  9.476363e-16  1.000089   \n",
       "\n",
       "                                            min       25%       50%       75%  \\\n",
       "SeniorCitizen                         -0.439848 -0.439848 -0.439848 -0.439848   \n",
       "tenure                                -1.276426 -0.950432 -0.135445  0.924038   \n",
       "MonthlyCharges                        -1.546789 -0.975385  0.185694  0.831845   \n",
       "TotalCharges                          -0.998089 -0.833452 -0.390903  0.668004   \n",
       "gender_Male                           -1.007135 -1.007135  0.992915  0.992915   \n",
       "Partner_Yes                           -0.959237 -0.959237 -0.959237  1.042495   \n",
       "Dependents_Yes                        -0.646408 -0.646408 -0.646408  1.547012   \n",
       "PhoneService_Yes                      -3.053348  0.327509  0.327509  0.327509   \n",
       "MultipleLines_No phone service        -0.327509 -0.327509 -0.327509 -0.327509   \n",
       "MultipleLines_Yes                     -0.857525 -0.857525 -0.857525  1.166147   \n",
       "InternetService_Fiber optic           -0.887544 -0.887544 -0.887544  1.126705   \n",
       "InternetService_No                    -0.525382 -0.525382 -0.525382 -0.525382   \n",
       "OnlineSecurity_No internet service    -0.525382 -0.525382 -0.525382 -0.525382   \n",
       "OnlineSecurity_Yes                    -0.632613 -0.632613 -0.632613  1.580745   \n",
       "OnlineBackup_No internet service      -0.525382 -0.525382 -0.525382 -0.525382   \n",
       "OnlineBackup_Yes                      -0.717502 -0.717502 -0.717502  1.393725   \n",
       "DeviceProtection_No internet service  -0.525382 -0.525382 -0.525382 -0.525382   \n",
       "DeviceProtection_Yes                  -0.724620 -0.724620 -0.724620  1.380033   \n",
       "TechSupport_No internet service       -0.525382 -0.525382 -0.525382 -0.525382   \n",
       "TechSupport_Yes                       -0.638401 -0.638401 -0.638401  1.566414   \n",
       "StreamingTV_No internet service       -0.525382 -0.525382 -0.525382 -0.525382   \n",
       "StreamingTV_Yes                       -0.790615 -0.790615 -0.790615  1.264838   \n",
       "StreamingMovies_No internet service   -0.525382 -0.525382 -0.525382 -0.525382   \n",
       "StreamingMovies_Yes                   -0.801043 -0.801043 -0.801043  1.248373   \n",
       "Contract_One year                     -0.516558 -0.516558 -0.516558 -0.516558   \n",
       "Contract_Two year                     -0.558326 -0.558326 -0.558326 -0.558326   \n",
       "PaperlessBilling_Yes                  -1.199003 -1.199003  0.834026  0.834026   \n",
       "PaymentMethod_Credit card (automatic) -0.525107 -0.525107 -0.525107 -0.525107   \n",
       "PaymentMethod_Electronic check        -0.712109 -0.712109 -0.712109  1.404280   \n",
       "PaymentMethod_Mailed check            -0.548187 -0.548187 -0.548187 -0.548187   \n",
       "\n",
       "                                            max  \n",
       "SeniorCitizen                          2.273513  \n",
       "tenure                                 1.616777  \n",
       "MonthlyCharges                         1.788614  \n",
       "TotalCharges                           2.825945  \n",
       "gender_Male                            0.992915  \n",
       "Partner_Yes                            1.042495  \n",
       "Dependents_Yes                         1.547012  \n",
       "PhoneService_Yes                       0.327509  \n",
       "MultipleLines_No phone service         3.053348  \n",
       "MultipleLines_Yes                      1.166147  \n",
       "InternetService_Fiber optic            1.126705  \n",
       "InternetService_No                     1.903377  \n",
       "OnlineSecurity_No internet service     1.903377  \n",
       "OnlineSecurity_Yes                     1.580745  \n",
       "OnlineBackup_No internet service       1.903377  \n",
       "OnlineBackup_Yes                       1.393725  \n",
       "DeviceProtection_No internet service   1.903377  \n",
       "DeviceProtection_Yes                   1.380033  \n",
       "TechSupport_No internet service        1.903377  \n",
       "TechSupport_Yes                        1.566414  \n",
       "StreamingTV_No internet service        1.903377  \n",
       "StreamingTV_Yes                        1.264838  \n",
       "StreamingMovies_No internet service    1.903377  \n",
       "StreamingMovies_Yes                    1.248373  \n",
       "Contract_One year                      1.935892  \n",
       "Contract_Two year                      1.791069  \n",
       "PaperlessBilling_Yes                   0.834026  \n",
       "PaymentMethod_Credit card (automatic)  1.904375  \n",
       "PaymentMethod_Electronic check         1.404280  \n",
       "PaymentMethod_Mailed check             1.824196  "
      ]
     },
     "execution_count": 718,
     "metadata": {},
     "output_type": "execute_result"
    }
   ],
   "source": [
    "X_train.describe().T"
   ]
  },
  {
   "cell_type": "markdown",
   "metadata": {},
   "source": [
    "##### Building the Logistic Regression Model and predicting the Train Variable to check the accuracy Score"
   ]
  },
  {
   "cell_type": "code",
   "execution_count": 719,
   "metadata": {},
   "outputs": [],
   "source": [
    "LogReg = LogisticRegression()"
   ]
  },
  {
   "cell_type": "code",
   "execution_count": 720,
   "metadata": {},
   "outputs": [],
   "source": [
    "result = LogReg.fit(X_train,y_train)"
   ]
  },
  {
   "cell_type": "code",
   "execution_count": 721,
   "metadata": {},
   "outputs": [],
   "source": [
    "pred = LogReg.predict(X_train)"
   ]
  },
  {
   "cell_type": "code",
   "execution_count": 743,
   "metadata": {},
   "outputs": [
    {
     "data": {
      "text/plain": [
       "80.48346960540349"
      ]
     },
     "execution_count": 743,
     "metadata": {},
     "output_type": "execute_result"
    }
   ],
   "source": [
    "accuracy = accuracy_score(y_train,pred)\n",
    "accuracy*100"
   ]
  },
  {
   "cell_type": "markdown",
   "metadata": {},
   "source": [
    "# Working on Predicting the TestVariables"
   ]
  },
  {
   "cell_type": "code",
   "execution_count": 723,
   "metadata": {},
   "outputs": [
    {
     "name": "stdout",
     "output_type": "stream",
     "text": [
      "<class 'pandas.core.frame.DataFrame'>\n",
      "RangeIndex: 1409 entries, 0 to 1408\n",
      "Data columns (total 20 columns):\n",
      " #   Column            Non-Null Count  Dtype  \n",
      "---  ------            --------------  -----  \n",
      " 0   customerID        1409 non-null   object \n",
      " 1   gender            1409 non-null   object \n",
      " 2   SeniorCitizen     1409 non-null   int64  \n",
      " 3   Partner           1409 non-null   object \n",
      " 4   Dependents        1409 non-null   object \n",
      " 5   tenure            1409 non-null   int64  \n",
      " 6   PhoneService      1409 non-null   object \n",
      " 7   MultipleLines     1409 non-null   object \n",
      " 8   InternetService   1409 non-null   object \n",
      " 9   OnlineSecurity    1409 non-null   object \n",
      " 10  OnlineBackup      1409 non-null   object \n",
      " 11  DeviceProtection  1409 non-null   object \n",
      " 12  TechSupport       1409 non-null   object \n",
      " 13  StreamingTV       1409 non-null   object \n",
      " 14  StreamingMovies   1409 non-null   object \n",
      " 15  Contract          1409 non-null   object \n",
      " 16  PaperlessBilling  1409 non-null   object \n",
      " 17  PaymentMethod     1409 non-null   object \n",
      " 18  MonthlyCharges    1409 non-null   float64\n",
      " 19  TotalCharges      1409 non-null   object \n",
      "dtypes: float64(1), int64(2), object(17)\n",
      "memory usage: 220.3+ KB\n"
     ]
    }
   ],
   "source": [
    "test_data.info()"
   ]
  },
  {
   "cell_type": "code",
   "execution_count": 724,
   "metadata": {},
   "outputs": [],
   "source": [
    "test_data['TotalCharges']= pd.to_numeric(test_data['TotalCharges'],errors='coerce').astype(float)"
   ]
  },
  {
   "cell_type": "code",
   "execution_count": 725,
   "metadata": {},
   "outputs": [
    {
     "data": {
      "text/plain": [
       "customerID          0\n",
       "gender              0\n",
       "SeniorCitizen       0\n",
       "Partner             0\n",
       "Dependents          0\n",
       "tenure              0\n",
       "PhoneService        0\n",
       "MultipleLines       0\n",
       "InternetService     0\n",
       "OnlineSecurity      0\n",
       "OnlineBackup        0\n",
       "DeviceProtection    0\n",
       "TechSupport         0\n",
       "StreamingTV         0\n",
       "StreamingMovies     0\n",
       "Contract            0\n",
       "PaperlessBilling    0\n",
       "PaymentMethod       0\n",
       "MonthlyCharges      0\n",
       "TotalCharges        3\n",
       "dtype: int64"
      ]
     },
     "execution_count": 725,
     "metadata": {},
     "output_type": "execute_result"
    }
   ],
   "source": [
    "test_data.isnull().sum()"
   ]
  },
  {
   "cell_type": "code",
   "execution_count": 726,
   "metadata": {},
   "outputs": [
    {
     "data": {
      "text/html": [
       "<div>\n",
       "<style scoped>\n",
       "    .dataframe tbody tr th:only-of-type {\n",
       "        vertical-align: middle;\n",
       "    }\n",
       "\n",
       "    .dataframe tbody tr th {\n",
       "        vertical-align: top;\n",
       "    }\n",
       "\n",
       "    .dataframe thead th {\n",
       "        text-align: right;\n",
       "    }\n",
       "</style>\n",
       "<table border=\"1\" class=\"dataframe\">\n",
       "  <thead>\n",
       "    <tr style=\"text-align: right;\">\n",
       "      <th></th>\n",
       "      <th>SeniorCitizen</th>\n",
       "      <th>tenure</th>\n",
       "      <th>MonthlyCharges</th>\n",
       "      <th>TotalCharges</th>\n",
       "    </tr>\n",
       "  </thead>\n",
       "  <tbody>\n",
       "    <tr>\n",
       "      <th>count</th>\n",
       "      <td>1409.000000</td>\n",
       "      <td>1409.000000</td>\n",
       "      <td>1409.000000</td>\n",
       "      <td>1406.000000</td>\n",
       "    </tr>\n",
       "    <tr>\n",
       "      <th>mean</th>\n",
       "      <td>0.163236</td>\n",
       "      <td>32.743790</td>\n",
       "      <td>64.691980</td>\n",
       "      <td>2293.856437</td>\n",
       "    </tr>\n",
       "    <tr>\n",
       "      <th>std</th>\n",
       "      <td>0.369712</td>\n",
       "      <td>24.581736</td>\n",
       "      <td>30.040784</td>\n",
       "      <td>2269.054321</td>\n",
       "    </tr>\n",
       "    <tr>\n",
       "      <th>min</th>\n",
       "      <td>0.000000</td>\n",
       "      <td>0.000000</td>\n",
       "      <td>18.700000</td>\n",
       "      <td>19.200000</td>\n",
       "    </tr>\n",
       "    <tr>\n",
       "      <th>25%</th>\n",
       "      <td>0.000000</td>\n",
       "      <td>9.000000</td>\n",
       "      <td>36.850000</td>\n",
       "      <td>423.687500</td>\n",
       "    </tr>\n",
       "    <tr>\n",
       "      <th>50%</th>\n",
       "      <td>0.000000</td>\n",
       "      <td>29.000000</td>\n",
       "      <td>70.150000</td>\n",
       "      <td>1413.550000</td>\n",
       "    </tr>\n",
       "    <tr>\n",
       "      <th>75%</th>\n",
       "      <td>0.000000</td>\n",
       "      <td>56.000000</td>\n",
       "      <td>89.850000</td>\n",
       "      <td>3791.875000</td>\n",
       "    </tr>\n",
       "    <tr>\n",
       "      <th>max</th>\n",
       "      <td>1.000000</td>\n",
       "      <td>72.000000</td>\n",
       "      <td>118.750000</td>\n",
       "      <td>8672.450000</td>\n",
       "    </tr>\n",
       "  </tbody>\n",
       "</table>\n",
       "</div>"
      ],
      "text/plain": [
       "       SeniorCitizen       tenure  MonthlyCharges  TotalCharges\n",
       "count    1409.000000  1409.000000     1409.000000   1406.000000\n",
       "mean        0.163236    32.743790       64.691980   2293.856437\n",
       "std         0.369712    24.581736       30.040784   2269.054321\n",
       "min         0.000000     0.000000       18.700000     19.200000\n",
       "25%         0.000000     9.000000       36.850000    423.687500\n",
       "50%         0.000000    29.000000       70.150000   1413.550000\n",
       "75%         0.000000    56.000000       89.850000   3791.875000\n",
       "max         1.000000    72.000000      118.750000   8672.450000"
      ]
     },
     "execution_count": 726,
     "metadata": {},
     "output_type": "execute_result"
    }
   ],
   "source": [
    "test_data.describe()"
   ]
  },
  {
   "cell_type": "code",
   "execution_count": 727,
   "metadata": {},
   "outputs": [],
   "source": [
    "test_data['TotalCharges'].fillna(test_data['TotalCharges'].median(), inplace=True)"
   ]
  },
  {
   "cell_type": "code",
   "execution_count": 728,
   "metadata": {},
   "outputs": [
    {
     "data": {
      "text/plain": [
       "customerID          0\n",
       "gender              0\n",
       "SeniorCitizen       0\n",
       "Partner             0\n",
       "Dependents          0\n",
       "tenure              0\n",
       "PhoneService        0\n",
       "MultipleLines       0\n",
       "InternetService     0\n",
       "OnlineSecurity      0\n",
       "OnlineBackup        0\n",
       "DeviceProtection    0\n",
       "TechSupport         0\n",
       "StreamingTV         0\n",
       "StreamingMovies     0\n",
       "Contract            0\n",
       "PaperlessBilling    0\n",
       "PaymentMethod       0\n",
       "MonthlyCharges      0\n",
       "TotalCharges        0\n",
       "dtype: int64"
      ]
     },
     "execution_count": 728,
     "metadata": {},
     "output_type": "execute_result"
    }
   ],
   "source": [
    "test_data.isnull().sum()"
   ]
  },
  {
   "cell_type": "code",
   "execution_count": 729,
   "metadata": {},
   "outputs": [
    {
     "data": {
      "text/plain": [
       "(1409, 20)"
      ]
     },
     "execution_count": 729,
     "metadata": {},
     "output_type": "execute_result"
    }
   ],
   "source": [
    "test_data.shape"
   ]
  },
  {
   "cell_type": "code",
   "execution_count": 730,
   "metadata": {},
   "outputs": [],
   "source": [
    "X_test = test_data.drop('customerID',axis=1)"
   ]
  },
  {
   "cell_type": "code",
   "execution_count": 731,
   "metadata": {},
   "outputs": [],
   "source": [
    "X_test = pd.get_dummies(X_test,drop_first=True)"
   ]
  },
  {
   "cell_type": "code",
   "execution_count": 732,
   "metadata": {},
   "outputs": [
    {
     "name": "stdout",
     "output_type": "stream",
     "text": [
      "(1409, 30)\n"
     ]
    }
   ],
   "source": [
    "print(X_test.shape)"
   ]
  },
  {
   "cell_type": "code",
   "execution_count": 733,
   "metadata": {},
   "outputs": [
    {
     "data": {
      "text/plain": [
       "array([ True,  True,  True,  True,  True,  True,  True,  True,  True,\n",
       "        True,  True,  True,  True,  True,  True,  True,  True,  True,\n",
       "        True,  True,  True,  True,  True,  True,  True,  True,  True,\n",
       "        True,  True,  True])"
      ]
     },
     "execution_count": 733,
     "metadata": {},
     "output_type": "execute_result"
    }
   ],
   "source": [
    "X_test.columns == X_train.columns ## Checking the list column Name"
   ]
  },
  {
   "cell_type": "markdown",
   "metadata": {},
   "source": [
    "#### Scaling the X_Test by using Standard Scaler Transform Method"
   ]
  },
  {
   "cell_type": "code",
   "execution_count": 734,
   "metadata": {},
   "outputs": [],
   "source": [
    "X_test[X_test.columns] = SS.transform(X_test)"
   ]
  },
  {
   "cell_type": "code",
   "execution_count": 735,
   "metadata": {},
   "outputs": [
    {
     "data": {
      "text/html": [
       "<div>\n",
       "<style scoped>\n",
       "    .dataframe tbody tr th:only-of-type {\n",
       "        vertical-align: middle;\n",
       "    }\n",
       "\n",
       "    .dataframe tbody tr th {\n",
       "        vertical-align: top;\n",
       "    }\n",
       "\n",
       "    .dataframe thead th {\n",
       "        text-align: right;\n",
       "    }\n",
       "</style>\n",
       "<table border=\"1\" class=\"dataframe\">\n",
       "  <thead>\n",
       "    <tr style=\"text-align: right;\">\n",
       "      <th></th>\n",
       "      <th>count</th>\n",
       "      <th>mean</th>\n",
       "      <th>std</th>\n",
       "      <th>min</th>\n",
       "      <th>25%</th>\n",
       "      <th>50%</th>\n",
       "      <th>75%</th>\n",
       "      <th>max</th>\n",
       "    </tr>\n",
       "  </thead>\n",
       "  <tbody>\n",
       "    <tr>\n",
       "      <th>SeniorCitizen</th>\n",
       "      <td>1409.0</td>\n",
       "      <td>0.003071</td>\n",
       "      <td>1.003163</td>\n",
       "      <td>-0.439848</td>\n",
       "      <td>-0.439848</td>\n",
       "      <td>-0.439848</td>\n",
       "      <td>-0.439848</td>\n",
       "      <td>2.273513</td>\n",
       "    </tr>\n",
       "    <tr>\n",
       "      <th>tenure</th>\n",
       "      <td>1409.0</td>\n",
       "      <td>0.017112</td>\n",
       "      <td>1.001690</td>\n",
       "      <td>-1.317176</td>\n",
       "      <td>-0.950432</td>\n",
       "      <td>-0.135445</td>\n",
       "      <td>0.964787</td>\n",
       "      <td>1.616777</td>\n",
       "    </tr>\n",
       "    <tr>\n",
       "      <th>MonthlyCharges</th>\n",
       "      <td>1409.0</td>\n",
       "      <td>-0.003933</td>\n",
       "      <td>0.997989</td>\n",
       "      <td>-1.531840</td>\n",
       "      <td>-0.928876</td>\n",
       "      <td>0.177388</td>\n",
       "      <td>0.831845</td>\n",
       "      <td>1.791936</td>\n",
       "    </tr>\n",
       "    <tr>\n",
       "      <th>TotalCharges</th>\n",
       "      <td>1409.0</td>\n",
       "      <td>0.004995</td>\n",
       "      <td>1.000356</td>\n",
       "      <td>-0.997912</td>\n",
       "      <td>-0.818118</td>\n",
       "      <td>-0.382630</td>\n",
       "      <td>0.663376</td>\n",
       "      <td>2.820495</td>\n",
       "    </tr>\n",
       "    <tr>\n",
       "      <th>gender_Male</th>\n",
       "      <td>1409.0</td>\n",
       "      <td>0.010634</td>\n",
       "      <td>1.000223</td>\n",
       "      <td>-1.007135</td>\n",
       "      <td>-1.007135</td>\n",
       "      <td>0.992915</td>\n",
       "      <td>0.992915</td>\n",
       "      <td>0.992915</td>\n",
       "    </tr>\n",
       "    <tr>\n",
       "      <th>Partner_Yes</th>\n",
       "      <td>1409.0</td>\n",
       "      <td>0.035236</td>\n",
       "      <td>1.001201</td>\n",
       "      <td>-0.959237</td>\n",
       "      <td>-0.959237</td>\n",
       "      <td>-0.959237</td>\n",
       "      <td>1.042495</td>\n",
       "      <td>1.042495</td>\n",
       "    </tr>\n",
       "    <tr>\n",
       "      <th>Dependents_Yes</th>\n",
       "      <td>1409.0</td>\n",
       "      <td>0.044776</td>\n",
       "      <td>1.019342</td>\n",
       "      <td>-0.646408</td>\n",
       "      <td>-0.646408</td>\n",
       "      <td>-0.646408</td>\n",
       "      <td>1.547012</td>\n",
       "      <td>1.547012</td>\n",
       "    </tr>\n",
       "    <tr>\n",
       "      <th>PhoneService_Yes</th>\n",
       "      <td>1409.0</td>\n",
       "      <td>0.003580</td>\n",
       "      <td>0.995455</td>\n",
       "      <td>-3.053348</td>\n",
       "      <td>0.327509</td>\n",
       "      <td>0.327509</td>\n",
       "      <td>0.327509</td>\n",
       "      <td>0.327509</td>\n",
       "    </tr>\n",
       "    <tr>\n",
       "      <th>MultipleLines_No phone service</th>\n",
       "      <td>1409.0</td>\n",
       "      <td>-0.003580</td>\n",
       "      <td>0.995455</td>\n",
       "      <td>-0.327509</td>\n",
       "      <td>-0.327509</td>\n",
       "      <td>-0.327509</td>\n",
       "      <td>-0.327509</td>\n",
       "      <td>3.053348</td>\n",
       "    </tr>\n",
       "    <tr>\n",
       "      <th>MultipleLines_Yes</th>\n",
       "      <td>1409.0</td>\n",
       "      <td>-0.018756</td>\n",
       "      <td>0.997279</td>\n",
       "      <td>-0.857525</td>\n",
       "      <td>-0.857525</td>\n",
       "      <td>-0.857525</td>\n",
       "      <td>1.166147</td>\n",
       "      <td>1.166147</td>\n",
       "    </tr>\n",
       "    <tr>\n",
       "      <th>InternetService_Fiber optic</th>\n",
       "      <td>1409.0</td>\n",
       "      <td>-0.005506</td>\n",
       "      <td>0.999681</td>\n",
       "      <td>-0.887544</td>\n",
       "      <td>-0.887544</td>\n",
       "      <td>-0.887544</td>\n",
       "      <td>1.126705</td>\n",
       "      <td>1.126705</td>\n",
       "    </tr>\n",
       "    <tr>\n",
       "      <th>InternetService_No</th>\n",
       "      <td>1409.0</td>\n",
       "      <td>0.000361</td>\n",
       "      <td>1.000604</td>\n",
       "      <td>-0.525382</td>\n",
       "      <td>-0.525382</td>\n",
       "      <td>-0.525382</td>\n",
       "      <td>-0.525382</td>\n",
       "      <td>1.903377</td>\n",
       "    </tr>\n",
       "    <tr>\n",
       "      <th>OnlineSecurity_No internet service</th>\n",
       "      <td>1409.0</td>\n",
       "      <td>0.000361</td>\n",
       "      <td>1.000604</td>\n",
       "      <td>-0.525382</td>\n",
       "      <td>-0.525382</td>\n",
       "      <td>-0.525382</td>\n",
       "      <td>-0.525382</td>\n",
       "      <td>1.903377</td>\n",
       "    </tr>\n",
       "    <tr>\n",
       "      <th>OnlineSecurity_Yes</th>\n",
       "      <td>1409.0</td>\n",
       "      <td>0.006732</td>\n",
       "      <td>1.003520</td>\n",
       "      <td>-0.632613</td>\n",
       "      <td>-0.632613</td>\n",
       "      <td>-0.632613</td>\n",
       "      <td>1.580745</td>\n",
       "      <td>1.580745</td>\n",
       "    </tr>\n",
       "    <tr>\n",
       "      <th>OnlineBackup_No internet service</th>\n",
       "      <td>1409.0</td>\n",
       "      <td>0.000361</td>\n",
       "      <td>1.000604</td>\n",
       "      <td>-0.525382</td>\n",
       "      <td>-0.525382</td>\n",
       "      <td>-0.525382</td>\n",
       "      <td>-0.525382</td>\n",
       "      <td>1.903377</td>\n",
       "    </tr>\n",
       "    <tr>\n",
       "      <th>OnlineBackup_Yes</th>\n",
       "      <td>1409.0</td>\n",
       "      <td>0.052669</td>\n",
       "      <td>1.016649</td>\n",
       "      <td>-0.717502</td>\n",
       "      <td>-0.717502</td>\n",
       "      <td>-0.717502</td>\n",
       "      <td>1.393725</td>\n",
       "      <td>1.393725</td>\n",
       "    </tr>\n",
       "    <tr>\n",
       "      <th>DeviceProtection_No internet service</th>\n",
       "      <td>1409.0</td>\n",
       "      <td>0.000361</td>\n",
       "      <td>1.000604</td>\n",
       "      <td>-0.525382</td>\n",
       "      <td>-0.525382</td>\n",
       "      <td>-0.525382</td>\n",
       "      <td>-0.525382</td>\n",
       "      <td>1.903377</td>\n",
       "    </tr>\n",
       "    <tr>\n",
       "      <th>DeviceProtection_Yes</th>\n",
       "      <td>1409.0</td>\n",
       "      <td>-0.004647</td>\n",
       "      <td>0.998820</td>\n",
       "      <td>-0.724620</td>\n",
       "      <td>-0.724620</td>\n",
       "      <td>-0.724620</td>\n",
       "      <td>1.380033</td>\n",
       "      <td>1.380033</td>\n",
       "    </tr>\n",
       "    <tr>\n",
       "      <th>TechSupport_No internet service</th>\n",
       "      <td>1409.0</td>\n",
       "      <td>0.000361</td>\n",
       "      <td>1.000604</td>\n",
       "      <td>-0.525382</td>\n",
       "      <td>-0.525382</td>\n",
       "      <td>-0.525382</td>\n",
       "      <td>-0.525382</td>\n",
       "      <td>1.903377</td>\n",
       "    </tr>\n",
       "    <tr>\n",
       "      <th>TechSupport_Yes</th>\n",
       "      <td>1409.0</td>\n",
       "      <td>0.006300</td>\n",
       "      <td>1.003255</td>\n",
       "      <td>-0.638401</td>\n",
       "      <td>-0.638401</td>\n",
       "      <td>-0.638401</td>\n",
       "      <td>1.566414</td>\n",
       "      <td>1.566414</td>\n",
       "    </tr>\n",
       "    <tr>\n",
       "      <th>StreamingTV_No internet service</th>\n",
       "      <td>1409.0</td>\n",
       "      <td>0.000361</td>\n",
       "      <td>1.000604</td>\n",
       "      <td>-0.525382</td>\n",
       "      <td>-0.525382</td>\n",
       "      <td>-0.525382</td>\n",
       "      <td>-0.525382</td>\n",
       "      <td>1.903377</td>\n",
       "    </tr>\n",
       "    <tr>\n",
       "      <th>StreamingTV_Yes</th>\n",
       "      <td>1409.0</td>\n",
       "      <td>-0.002862</td>\n",
       "      <td>0.999672</td>\n",
       "      <td>-0.790615</td>\n",
       "      <td>-0.790615</td>\n",
       "      <td>-0.790615</td>\n",
       "      <td>1.264838</td>\n",
       "      <td>1.264838</td>\n",
       "    </tr>\n",
       "    <tr>\n",
       "      <th>StreamingMovies_No internet service</th>\n",
       "      <td>1409.0</td>\n",
       "      <td>0.000361</td>\n",
       "      <td>1.000604</td>\n",
       "      <td>-0.525382</td>\n",
       "      <td>-0.525382</td>\n",
       "      <td>-0.525382</td>\n",
       "      <td>-0.525382</td>\n",
       "      <td>1.903377</td>\n",
       "    </tr>\n",
       "    <tr>\n",
       "      <th>StreamingMovies_Yes</th>\n",
       "      <td>1409.0</td>\n",
       "      <td>-0.027239</td>\n",
       "      <td>0.993868</td>\n",
       "      <td>-0.801043</td>\n",
       "      <td>-0.801043</td>\n",
       "      <td>-0.801043</td>\n",
       "      <td>1.248373</td>\n",
       "      <td>1.248373</td>\n",
       "    </tr>\n",
       "    <tr>\n",
       "      <th>Contract_One year</th>\n",
       "      <td>1409.0</td>\n",
       "      <td>-0.017017</td>\n",
       "      <td>0.988054</td>\n",
       "      <td>-0.516558</td>\n",
       "      <td>-0.516558</td>\n",
       "      <td>-0.516558</td>\n",
       "      <td>-0.516558</td>\n",
       "      <td>1.935892</td>\n",
       "    </tr>\n",
       "    <tr>\n",
       "      <th>Contract_Two year</th>\n",
       "      <td>1409.0</td>\n",
       "      <td>0.026939</td>\n",
       "      <td>1.016472</td>\n",
       "      <td>-0.558326</td>\n",
       "      <td>-0.558326</td>\n",
       "      <td>-0.558326</td>\n",
       "      <td>-0.558326</td>\n",
       "      <td>1.791069</td>\n",
       "    </tr>\n",
       "    <tr>\n",
       "      <th>PaperlessBilling_Yes</th>\n",
       "      <td>1409.0</td>\n",
       "      <td>0.027452</td>\n",
       "      <td>0.994952</td>\n",
       "      <td>-1.199003</td>\n",
       "      <td>-1.199003</td>\n",
       "      <td>0.834026</td>\n",
       "      <td>0.834026</td>\n",
       "      <td>0.834026</td>\n",
       "    </tr>\n",
       "    <tr>\n",
       "      <th>PaymentMethod_Credit card (automatic)</th>\n",
       "      <td>1409.0</td>\n",
       "      <td>0.000793</td>\n",
       "      <td>1.000901</td>\n",
       "      <td>-0.525107</td>\n",
       "      <td>-0.525107</td>\n",
       "      <td>-0.525107</td>\n",
       "      <td>-0.525107</td>\n",
       "      <td>1.904375</td>\n",
       "    </tr>\n",
       "    <tr>\n",
       "      <th>PaymentMethod_Electronic check</th>\n",
       "      <td>1409.0</td>\n",
       "      <td>-0.003141</td>\n",
       "      <td>0.999262</td>\n",
       "      <td>-0.712109</td>\n",
       "      <td>-0.712109</td>\n",
       "      <td>-0.712109</td>\n",
       "      <td>1.404280</td>\n",
       "      <td>1.404280</td>\n",
       "    </tr>\n",
       "    <tr>\n",
       "      <th>PaymentMethod_Mailed check</th>\n",
       "      <td>1409.0</td>\n",
       "      <td>-0.031280</td>\n",
       "      <td>0.979688</td>\n",
       "      <td>-0.548187</td>\n",
       "      <td>-0.548187</td>\n",
       "      <td>-0.548187</td>\n",
       "      <td>-0.548187</td>\n",
       "      <td>1.824196</td>\n",
       "    </tr>\n",
       "  </tbody>\n",
       "</table>\n",
       "</div>"
      ],
      "text/plain": [
       "                                        count      mean       std       min  \\\n",
       "SeniorCitizen                          1409.0  0.003071  1.003163 -0.439848   \n",
       "tenure                                 1409.0  0.017112  1.001690 -1.317176   \n",
       "MonthlyCharges                         1409.0 -0.003933  0.997989 -1.531840   \n",
       "TotalCharges                           1409.0  0.004995  1.000356 -0.997912   \n",
       "gender_Male                            1409.0  0.010634  1.000223 -1.007135   \n",
       "Partner_Yes                            1409.0  0.035236  1.001201 -0.959237   \n",
       "Dependents_Yes                         1409.0  0.044776  1.019342 -0.646408   \n",
       "PhoneService_Yes                       1409.0  0.003580  0.995455 -3.053348   \n",
       "MultipleLines_No phone service         1409.0 -0.003580  0.995455 -0.327509   \n",
       "MultipleLines_Yes                      1409.0 -0.018756  0.997279 -0.857525   \n",
       "InternetService_Fiber optic            1409.0 -0.005506  0.999681 -0.887544   \n",
       "InternetService_No                     1409.0  0.000361  1.000604 -0.525382   \n",
       "OnlineSecurity_No internet service     1409.0  0.000361  1.000604 -0.525382   \n",
       "OnlineSecurity_Yes                     1409.0  0.006732  1.003520 -0.632613   \n",
       "OnlineBackup_No internet service       1409.0  0.000361  1.000604 -0.525382   \n",
       "OnlineBackup_Yes                       1409.0  0.052669  1.016649 -0.717502   \n",
       "DeviceProtection_No internet service   1409.0  0.000361  1.000604 -0.525382   \n",
       "DeviceProtection_Yes                   1409.0 -0.004647  0.998820 -0.724620   \n",
       "TechSupport_No internet service        1409.0  0.000361  1.000604 -0.525382   \n",
       "TechSupport_Yes                        1409.0  0.006300  1.003255 -0.638401   \n",
       "StreamingTV_No internet service        1409.0  0.000361  1.000604 -0.525382   \n",
       "StreamingTV_Yes                        1409.0 -0.002862  0.999672 -0.790615   \n",
       "StreamingMovies_No internet service    1409.0  0.000361  1.000604 -0.525382   \n",
       "StreamingMovies_Yes                    1409.0 -0.027239  0.993868 -0.801043   \n",
       "Contract_One year                      1409.0 -0.017017  0.988054 -0.516558   \n",
       "Contract_Two year                      1409.0  0.026939  1.016472 -0.558326   \n",
       "PaperlessBilling_Yes                   1409.0  0.027452  0.994952 -1.199003   \n",
       "PaymentMethod_Credit card (automatic)  1409.0  0.000793  1.000901 -0.525107   \n",
       "PaymentMethod_Electronic check         1409.0 -0.003141  0.999262 -0.712109   \n",
       "PaymentMethod_Mailed check             1409.0 -0.031280  0.979688 -0.548187   \n",
       "\n",
       "                                            25%       50%       75%       max  \n",
       "SeniorCitizen                         -0.439848 -0.439848 -0.439848  2.273513  \n",
       "tenure                                -0.950432 -0.135445  0.964787  1.616777  \n",
       "MonthlyCharges                        -0.928876  0.177388  0.831845  1.791936  \n",
       "TotalCharges                          -0.818118 -0.382630  0.663376  2.820495  \n",
       "gender_Male                           -1.007135  0.992915  0.992915  0.992915  \n",
       "Partner_Yes                           -0.959237 -0.959237  1.042495  1.042495  \n",
       "Dependents_Yes                        -0.646408 -0.646408  1.547012  1.547012  \n",
       "PhoneService_Yes                       0.327509  0.327509  0.327509  0.327509  \n",
       "MultipleLines_No phone service        -0.327509 -0.327509 -0.327509  3.053348  \n",
       "MultipleLines_Yes                     -0.857525 -0.857525  1.166147  1.166147  \n",
       "InternetService_Fiber optic           -0.887544 -0.887544  1.126705  1.126705  \n",
       "InternetService_No                    -0.525382 -0.525382 -0.525382  1.903377  \n",
       "OnlineSecurity_No internet service    -0.525382 -0.525382 -0.525382  1.903377  \n",
       "OnlineSecurity_Yes                    -0.632613 -0.632613  1.580745  1.580745  \n",
       "OnlineBackup_No internet service      -0.525382 -0.525382 -0.525382  1.903377  \n",
       "OnlineBackup_Yes                      -0.717502 -0.717502  1.393725  1.393725  \n",
       "DeviceProtection_No internet service  -0.525382 -0.525382 -0.525382  1.903377  \n",
       "DeviceProtection_Yes                  -0.724620 -0.724620  1.380033  1.380033  \n",
       "TechSupport_No internet service       -0.525382 -0.525382 -0.525382  1.903377  \n",
       "TechSupport_Yes                       -0.638401 -0.638401  1.566414  1.566414  \n",
       "StreamingTV_No internet service       -0.525382 -0.525382 -0.525382  1.903377  \n",
       "StreamingTV_Yes                       -0.790615 -0.790615  1.264838  1.264838  \n",
       "StreamingMovies_No internet service   -0.525382 -0.525382 -0.525382  1.903377  \n",
       "StreamingMovies_Yes                   -0.801043 -0.801043  1.248373  1.248373  \n",
       "Contract_One year                     -0.516558 -0.516558 -0.516558  1.935892  \n",
       "Contract_Two year                     -0.558326 -0.558326 -0.558326  1.791069  \n",
       "PaperlessBilling_Yes                  -1.199003  0.834026  0.834026  0.834026  \n",
       "PaymentMethod_Credit card (automatic) -0.525107 -0.525107 -0.525107  1.904375  \n",
       "PaymentMethod_Electronic check        -0.712109 -0.712109  1.404280  1.404280  \n",
       "PaymentMethod_Mailed check            -0.548187 -0.548187 -0.548187  1.824196  "
      ]
     },
     "execution_count": 735,
     "metadata": {},
     "output_type": "execute_result"
    }
   ],
   "source": [
    "X_test.describe().T"
   ]
  },
  {
   "cell_type": "code",
   "execution_count": 736,
   "metadata": {},
   "outputs": [],
   "source": [
    "Pred_Final = LogReg.predict(X_test)"
   ]
  },
  {
   "cell_type": "code",
   "execution_count": 737,
   "metadata": {},
   "outputs": [
    {
     "data": {
      "text/plain": [
       "(1409,)"
      ]
     },
     "execution_count": 737,
     "metadata": {},
     "output_type": "execute_result"
    }
   ],
   "source": [
    "Pred_Final.shape"
   ]
  },
  {
   "cell_type": "code",
   "execution_count": 738,
   "metadata": {},
   "outputs": [],
   "source": [
    "Final_OP = pd.DataFrame(test_data['customerID'])"
   ]
  },
  {
   "cell_type": "code",
   "execution_count": 739,
   "metadata": {},
   "outputs": [],
   "source": [
    "Final_OP['Churn'] = Pred_Final"
   ]
  },
  {
   "cell_type": "code",
   "execution_count": 740,
   "metadata": {},
   "outputs": [],
   "source": [
    "Final_OP['Churn'] = Final_OP['Churn'].apply(lambda x : 'Yes' if x==1 else 'No')"
   ]
  },
  {
   "cell_type": "code",
   "execution_count": 741,
   "metadata": {},
   "outputs": [
    {
     "data": {
      "text/plain": [
       "No     1085\n",
       "Yes     324\n",
       "Name: Churn, dtype: int64"
      ]
     },
     "execution_count": 741,
     "metadata": {},
     "output_type": "execute_result"
    }
   ],
   "source": [
    "Final_OP['Churn'].value_counts()"
   ]
  },
  {
   "cell_type": "code",
   "execution_count": 742,
   "metadata": {},
   "outputs": [],
   "source": [
    "Final_OP.to_csv('Submission.csv',index=False,header=False)"
   ]
  }
 ],
 "metadata": {
  "kernelspec": {
   "display_name": "Python 3",
   "language": "python",
   "name": "python3"
  }
 },
 "nbformat": 4,
 "nbformat_minor": 4
}
